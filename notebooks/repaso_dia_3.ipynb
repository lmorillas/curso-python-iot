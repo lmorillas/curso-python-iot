{
  "nbformat": 4,
  "nbformat_minor": 0,
  "metadata": {
    "colab": {
      "provenance": []
    },
    "kernelspec": {
      "name": "python3",
      "display_name": "Python 3"
    },
    "language_info": {
      "name": "python"
    }
  },
  "cells": [
    {
      "cell_type": "markdown",
      "source": [
        "## Repaso día 3\n",
        "\n",
        "Secuencia de repaso de algunos conceptos de manipulación de archivos `json` y `csv`"
      ],
      "metadata": {
        "id": "fkw80uVtTYEe"
      }
    },
    {
      "cell_type": "code",
      "source": [
        "! pip install requests"
      ],
      "metadata": {
        "id": "kbsqvrF2TtSN"
      },
      "execution_count": null,
      "outputs": []
    },
    {
      "cell_type": "code",
      "execution_count": null,
      "metadata": {
        "id": "BZcUxDy9TT4s"
      },
      "outputs": [],
      "source": [
        "# cogemos datos ayto\n",
        "\n",
        "import requests\n",
        "\n",
        "url = 'https://www.zaragoza.es/sede/servicio/urbanismo-infraestructuras/estacion-bicicleta?rf=html&srsname=wgs84&start=0&rows=150&distance=500'\n",
        "\n",
        "# Hay que informar a la api que podemos leer un json, si no nos devuelve un html\n",
        "headers = {'Accept': 'application/geo+json'}\n",
        "\n",
        "doc = requests.get(url, headers=headers) # doc es un objeto tipo Response\n",
        "type(doc)"
      ]
    },
    {
      "cell_type": "markdown",
      "source": [],
      "metadata": {
        "id": "mZ75kRIVUcwH"
      }
    },
    {
      "cell_type": "code",
      "source": [
        "# Si la respuesta es correcta, el código de estado es 200\n",
        "doc.status_code"
      ],
      "metadata": {
        "id": "RmlQDUoDTyg0"
      },
      "execution_count": null,
      "outputs": []
    },
    {
      "cell_type": "code",
      "source": [
        "datos = doc.json()  # podemos convertirlo directamente a objetos python con el método json del objeto\n",
        "\n",
        "datos.keys()  # el json que hemos leído es un diccionario"
      ],
      "metadata": {
        "id": "5gx3EncpUFGf"
      },
      "execution_count": null,
      "outputs": []
    },
    {
      "cell_type": "code",
      "source": [
        "# Puedes guardarlo en un archivo\n",
        "import json\n",
        "\n",
        "with open('estaciones_bizi.json', 'w') as f:\n",
        "    json.dump(datos, f)\n"
      ],
      "metadata": {
        "id": "MGh3Vx6AUlDW"
      },
      "execution_count": null,
      "outputs": []
    },
    {
      "cell_type": "code",
      "source": [
        "!ls -l"
      ],
      "metadata": {
        "id": "m_p6QpboU5q_"
      },
      "execution_count": null,
      "outputs": []
    },
    {
      "cell_type": "code",
      "source": [
        "# O puedes guardar una parte del archivo, por ejemplo la lista de features,\n",
        "# que son en realidad las estaciones\n",
        "\n",
        "with open('estaciones_bizi.json', 'w') as f:\n",
        "    json.dump(datos['features'], f)"
      ],
      "metadata": {
        "id": "tgRiyVH0U7E9"
      },
      "execution_count": null,
      "outputs": []
    },
    {
      "cell_type": "code",
      "source": [
        "! ls -l"
      ],
      "metadata": {
        "id": "jJXSQUjbVc9e"
      },
      "execution_count": null,
      "outputs": []
    },
    {
      "cell_type": "code",
      "source": [
        "!head estaciones_bizi.json"
      ],
      "metadata": {
        "id": "IKXxs0_7VfbI"
      },
      "execution_count": null,
      "outputs": []
    },
    {
      "cell_type": "code",
      "source": [
        "# Para leerlo del disco\n",
        "with open('estaciones_bizi.json') as f:\n",
        "    estaciones = json.load(f)\n",
        "type(estaciones)"
      ],
      "metadata": {
        "id": "rmAdKIvlVkhh"
      },
      "execution_count": null,
      "outputs": []
    },
    {
      "cell_type": "code",
      "source": [
        "# tenemos una lista con las 130 estaciones\n",
        "len(estaciones)"
      ],
      "metadata": {
        "id": "ItJiEdRLV7RQ"
      },
      "execution_count": null,
      "outputs": []
    },
    {
      "cell_type": "code",
      "source": [
        "# ahora las puedes procesar, pero tienes que estar atento a su estructura:\n",
        "from pprint import pprint\n",
        "pprint(estaciones[0])"
      ],
      "metadata": {
        "id": "s26sl4LsWBj7"
      },
      "execution_count": null,
      "outputs": []
    },
    {
      "cell_type": "code",
      "source": [
        "# Imagina que necesitas guardarlo como un csv. Tendrías que \"aplanar\" la estructura\n",
        "# para mostrarlo con una tabla con los datos que te interesen\n",
        "\n",
        "def nueva_estacion(est):\n",
        "    \"\"\"Recoge los datos que necesito de la estación y los devuelve como un\n",
        "    diccionario plano\"\"\"\n",
        "    nueva = {}\n",
        "    nueva['coordenadas'] = est['geometry']['coordinates']\n",
        "    nueva['id'] = est['properties']['id']\n",
        "    nueva['title'] = est['properties']['title']\n",
        "    nueva['address'] = est['properties']['address']\n",
        "    # etc. Sigue con los datos que necesites\n",
        "    return nueva\n",
        "\n",
        "# filtramos nuestras estaciones\n",
        "nuevas = [nueva_estacion(e) for e in estaciones]\n",
        "\n",
        "# ahora tienen este aspecto\n",
        "nuevas[0]"
      ],
      "metadata": {
        "id": "nlkX-o3PWUcv"
      },
      "execution_count": null,
      "outputs": []
    },
    {
      "cell_type": "code",
      "source": [
        "# vamos a guardarla en un csv\n",
        "import csv\n",
        "\n",
        "with open('estaciones.csv', 'w') as f:\n",
        "    # vamos a usar un dictwriter para facilitar el trabajo\n",
        "    # al DictWriter hay que pasarle los fieldnames, que serán la cabecera del csv\n",
        "    # uso las claves del primer elemento por ejemplo\n",
        "    writer = csv.DictWriter(f, fieldnames = nuevas[0].keys())\n",
        "    writer.writerows(nuevas)"
      ],
      "metadata": {
        "id": "BZFsL_ifYTVI"
      },
      "execution_count": null,
      "outputs": []
    },
    {
      "cell_type": "code",
      "source": [
        "!ls -l"
      ],
      "metadata": {
        "id": "hYQG2520YxiU"
      },
      "execution_count": null,
      "outputs": []
    },
    {
      "cell_type": "code",
      "source": [
        "! head estaciones.csv"
      ],
      "metadata": {
        "id": "n5rj_2WSY92A"
      },
      "execution_count": null,
      "outputs": []
    },
    {
      "cell_type": "code",
      "source": [],
      "metadata": {
        "id": "l6o7_9fDZdUl"
      },
      "execution_count": null,
      "outputs": []
    }
  ]
}