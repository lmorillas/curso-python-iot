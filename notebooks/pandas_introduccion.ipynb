{
  "cells": [
    {
      "cell_type": "markdown",
      "metadata": {
        "id": "uk8EhSvJacHY"
      },
      "source": [
        "# Pandas. Introducción"
      ]
    },
    {
      "cell_type": "markdown",
      "metadata": {
        "id": "fPs6rLdfaLxQ"
      },
      "source": [
        "## NumPy\n",
        "\n",
        "NumPy es el paquete fundamental para la informática científica con Python. Entre otras cosas, contiene:\n",
        "\n",
        "- Potente objeto de matriz N-dimensional\n",
        "- Funciones sofisticadas (radiodifusión)\n",
        "- Herramientas para integrar código C/C ++ y Fortran\n",
        "- Álgebra lineal útil, transformada de Fourier y capacidades de números aleatorios"
      ]
    },
    {
      "cell_type": "code",
      "execution_count": null,
      "metadata": {
        "id": "2wm6eZOEaLxR"
      },
      "outputs": [],
      "source": [
        "# Install NumPy using pip\n",
        "!pip install --upgrade pip\n",
        "!pip install numpy"
      ]
    },
    {
      "cell_type": "code",
      "execution_count": null,
      "metadata": {
        "id": "jdjlnEDPaLxR"
      },
      "outputs": [],
      "source": [
        "# Import NumPy module\n",
        "import numpy as np"
      ]
    },
    {
      "cell_type": "markdown",
      "metadata": {
        "id": "CAiExxdjaLxR"
      },
      "source": [
        "### Inspección de la matriz"
      ]
    },
    {
      "cell_type": "code",
      "execution_count": null,
      "metadata": {
        "id": "Y2Zu7pNbaLxR"
      },
      "outputs": [],
      "source": [
        "# Create array\n",
        "a = np.arange(15).reshape(3, 5) # Create array with range 0-14 in 3 by 5 dimension\n",
        "b = np.zeros((3,5)) # Create array with zeroes\n",
        "c = np.ones( (2,3,4), dtype=np.int16 ) # Createarray with ones and defining data types\n",
        "d = np.ones((3,5))"
      ]
    },
    {
      "cell_type": "code",
      "execution_count": null,
      "metadata": {
        "id": "0k2CtwASaLxS"
      },
      "outputs": [],
      "source": [
        "a.shape # Array dimension"
      ]
    },
    {
      "cell_type": "code",
      "execution_count": null,
      "metadata": {
        "id": "ZoTE8PP2aLxS"
      },
      "outputs": [],
      "source": [
        "len(b)# Length of array"
      ]
    },
    {
      "cell_type": "code",
      "execution_count": null,
      "metadata": {
        "id": "IuSStL2taLxS"
      },
      "outputs": [],
      "source": [
        "c.ndim # Number of array dimensions"
      ]
    },
    {
      "cell_type": "code",
      "execution_count": null,
      "metadata": {
        "id": "Eu-SaqLXaLxS"
      },
      "outputs": [],
      "source": [
        "a.size # Number of array elements"
      ]
    },
    {
      "cell_type": "code",
      "execution_count": null,
      "metadata": {
        "id": "Qe2hEU7HaLxS"
      },
      "outputs": [],
      "source": [
        "b.dtype # Data type of array elements"
      ]
    },
    {
      "cell_type": "code",
      "execution_count": null,
      "metadata": {
        "id": "i64vM5S5aLxT"
      },
      "outputs": [],
      "source": [
        "c.dtype.name # Name of data type"
      ]
    },
    {
      "cell_type": "code",
      "execution_count": null,
      "metadata": {
        "id": "qzVJrPP6aLxT"
      },
      "outputs": [],
      "source": [
        "c.astype(float) # Convert an array type to a different type"
      ]
    },
    {
      "cell_type": "markdown",
      "metadata": {
        "id": "dHTQaEYuaLxT"
      },
      "source": [
        "### Operaciones matemáticas básicas"
      ]
    },
    {
      "cell_type": "code",
      "execution_count": null,
      "metadata": {
        "id": "pl3d6ZkJaLxT"
      },
      "outputs": [],
      "source": [
        "# Create array\n",
        "a = np.arange(15).reshape(3, 5) # Create array with range 0-14 in 3 by 5 dimension\n",
        "b = np.zeros((3,5)) # Create array with zeroes\n",
        "c = np.ones( (2,3,4), dtype=np.int16 ) # Createarray with ones and defining data types\n",
        "d = np.ones((3,5))"
      ]
    },
    {
      "cell_type": "code",
      "execution_count": null,
      "metadata": {
        "id": "mS15CfCLaLxT"
      },
      "outputs": [],
      "source": [
        "np.add(a,b) # Addition"
      ]
    },
    {
      "cell_type": "code",
      "execution_count": null,
      "metadata": {
        "id": "B76ZIgzqaLxU"
      },
      "outputs": [],
      "source": [
        "np.subtract(a,b) # Substraction"
      ]
    },
    {
      "cell_type": "code",
      "execution_count": null,
      "metadata": {
        "id": "6ifzQuWxaLxU"
      },
      "outputs": [],
      "source": [
        "np.divide(a,d) # Division"
      ]
    },
    {
      "cell_type": "code",
      "execution_count": null,
      "metadata": {
        "id": "VlmdV9vxaLxU"
      },
      "outputs": [],
      "source": [
        "np.multiply(a,d) # Multiplication"
      ]
    },
    {
      "cell_type": "code",
      "execution_count": null,
      "metadata": {
        "id": "E_2qghF8aLxU"
      },
      "outputs": [],
      "source": [
        "np.array_equal(a,b) # Comparison - arraywise"
      ]
    },
    {
      "cell_type": "markdown",
      "metadata": {
        "id": "DkWbJpdCaLxU"
      },
      "source": [
        "### Aggregate functions"
      ]
    },
    {
      "cell_type": "code",
      "execution_count": null,
      "metadata": {
        "id": "c9JjbcgWaLxU"
      },
      "outputs": [],
      "source": [
        "# Create array\n",
        "a = np.arange(15).reshape(3, 5) # Create array with range 0-14 in 3 by 5 dimension\n",
        "b = np.zeros((3,5)) # Create array with zeroes\n",
        "c = np.ones( (2,3,4), dtype=np.int16 ) # Createarray with ones and defining data types\n",
        "d = np.ones((3,5))"
      ]
    },
    {
      "cell_type": "code",
      "execution_count": null,
      "metadata": {
        "id": "V4UbQPdjaLxV"
      },
      "outputs": [],
      "source": [
        "a.sum() # Array-wise sum"
      ]
    },
    {
      "cell_type": "code",
      "execution_count": null,
      "metadata": {
        "id": "K3iJPJAEaLxV"
      },
      "outputs": [],
      "source": [
        "a.min() # Array-wise min value"
      ]
    },
    {
      "cell_type": "code",
      "execution_count": null,
      "metadata": {
        "id": "fCJ8Jz6QaLxV"
      },
      "outputs": [],
      "source": [
        "a.mean() # Array-wise mean"
      ]
    },
    {
      "cell_type": "code",
      "execution_count": null,
      "metadata": {
        "id": "TVy1RPLXaLxV"
      },
      "outputs": [],
      "source": [
        "a.max(axis=0) # Max value of array row"
      ]
    },
    {
      "cell_type": "code",
      "execution_count": null,
      "metadata": {
        "id": "vt2TDVlzaLxV"
      },
      "outputs": [],
      "source": [
        "np.std(a) # Standard deviation"
      ]
    },
    {
      "cell_type": "markdown",
      "metadata": {
        "id": "NSEuaCy6aLxW"
      },
      "source": [
        "### Subconfiguración, intervalos e indexación"
      ]
    },
    {
      "cell_type": "code",
      "execution_count": null,
      "metadata": {
        "id": "0g7FF5FpaLxW"
      },
      "outputs": [],
      "source": [
        "# Create array\n",
        "a = np.arange(15).reshape(3, 5) # Create array with range 0-14 in 3 by 5 dimension\n",
        "b = np.zeros((3,5)) # Create array with zeroes\n",
        "c = np.ones( (2,3,4), dtype=np.int16 ) # Createarray with ones and defining data types\n",
        "d = np.ones((3,5))"
      ]
    },
    {
      "cell_type": "code",
      "execution_count": null,
      "metadata": {
        "id": "1qZfifoGaLxW"
      },
      "outputs": [],
      "source": [
        "a[1,2] # Select element of row 1 and column 2"
      ]
    },
    {
      "cell_type": "code",
      "execution_count": null,
      "metadata": {
        "id": "Ok2J7YtXaLxW"
      },
      "outputs": [],
      "source": [
        "a[0:2] # Select items on index 0 and 1"
      ]
    },
    {
      "cell_type": "code",
      "execution_count": null,
      "metadata": {
        "id": "xe4APvPeaLxW"
      },
      "outputs": [],
      "source": [
        "a[:1] # Select all items at row 0"
      ]
    },
    {
      "cell_type": "code",
      "execution_count": null,
      "metadata": {
        "id": "pUR6TKsBaLxX"
      },
      "outputs": [],
      "source": [
        "a[-1:] # Select all items from last row"
      ]
    },
    {
      "cell_type": "code",
      "execution_count": null,
      "metadata": {
        "id": "czHmWFjJaLxX"
      },
      "outputs": [],
      "source": [
        "a[a<2] # Select elements from 'a' that are less than 2"
      ]
    },
    {
      "cell_type": "markdown",
      "metadata": {
        "id": "LZtI44xBaLxX"
      },
      "source": [
        "### Manipulación de matriz"
      ]
    },
    {
      "cell_type": "code",
      "execution_count": null,
      "metadata": {
        "id": "3nFSK0hIaLxX"
      },
      "outputs": [],
      "source": [
        "# Create array\n",
        "a = np.arange(15).reshape(3, 5) # Create array with range 0-14 in 3 by 5 dimension\n",
        "b = np.zeros((3,5)) # Create array with zeroes\n",
        "c = np.ones( (2,3,4), dtype=np.int16 ) # Createarray with ones and defining data types\n",
        "d = np.ones((3,5))"
      ]
    },
    {
      "cell_type": "code",
      "execution_count": null,
      "metadata": {
        "id": "OV8CKN-BaLxX"
      },
      "outputs": [],
      "source": [
        "np.transpose(a) # Transpose array 'a'"
      ]
    },
    {
      "cell_type": "code",
      "execution_count": null,
      "metadata": {
        "id": "KALOQgpkaLxY"
      },
      "outputs": [],
      "source": [
        "a.ravel() # Flatten the array"
      ]
    },
    {
      "cell_type": "code",
      "execution_count": null,
      "metadata": {
        "id": "0yqqDbr4aLxY"
      },
      "outputs": [],
      "source": [
        "a.reshape(5,-2) # Reshape but don't change the data"
      ]
    },
    {
      "cell_type": "code",
      "execution_count": null,
      "metadata": {
        "id": "-KQVs3OxaLxY"
      },
      "outputs": [],
      "source": [
        "np.append(a,b) # Append items to the array"
      ]
    },
    {
      "cell_type": "code",
      "execution_count": null,
      "metadata": {
        "id": "A9_O0sJ5aLxY"
      },
      "outputs": [],
      "source": [
        "np.concatenate((a,d), axis=0) # Concatenate arrays"
      ]
    },
    {
      "cell_type": "code",
      "execution_count": null,
      "metadata": {
        "id": "lqoMcviJaLxZ"
      },
      "outputs": [],
      "source": [
        "np.vsplit(a,3) # Split array vertically at 3rd index"
      ]
    },
    {
      "cell_type": "code",
      "execution_count": null,
      "metadata": {
        "id": "eamvaszoaLxZ"
      },
      "outputs": [],
      "source": [
        "np.hsplit(a,5) # Split array horizontally at 5th index"
      ]
    },
    {
      "cell_type": "markdown",
      "metadata": {
        "id": "Qm55AxwCaLxZ"
      },
      "source": [
        "## Pandas\n",
        "\n",
        "Pandas es una biblioteca de código abierto con licencia BSD que proporciona estructuras de datos y herramientas de análisis de datos fáciles de usar y de alto rendimiento para el lenguaje de programación Python.\n",
        "\n",
        "Los DataFrames de Pandas son la representación en memoria más utilizada de colecciones de datos complejas dentro de Python."
      ]
    },
    {
      "cell_type": "code",
      "execution_count": null,
      "metadata": {
        "id": "jV4a3wcBaLxZ"
      },
      "outputs": [],
      "source": [
        "# Install pandas using pip\n",
        "!pip install pandas\n"
      ]
    },
    {
      "cell_type": "code",
      "execution_count": null,
      "metadata": {
        "id": "nNa2Gzk4aLxa"
      },
      "outputs": [],
      "source": [
        "# Import NumPy and Pandas modules\n",
        "import numpy as np\n",
        "import pandas as pd"
      ]
    },
    {
      "cell_type": "code",
      "execution_count": null,
      "metadata": {
        "colab": {
          "base_uri": "https://localhost:8080/",
          "height": 175
        },
        "id": "o83SK1cHaLxa",
        "outputId": "b23a268e-a490-4ad1-b5ab-4a8d89baa004"
      },
      "outputs": [],
      "source": [
        "# Sample dataframe df\n",
        "df = pd.DataFrame({'num_legs': [2, 4, np.nan, 0],\n",
        "                   'num_wings': [2, 0, 0, 0],\n",
        "                   'num_specimen_seen': [10, np.nan, 1, 8]},\n",
        "                   index=['falcon', 'dog', 'spider', 'fish'])\n",
        "df # Display dataframe df"
      ]
    },
    {
      "cell_type": "code",
      "execution_count": null,
      "metadata": {
        "colab": {
          "base_uri": "https://localhost:8080/",
          "height": 238
        },
        "id": "3dmS-FmBaLxa",
        "outputId": "10cb864e-56d6-48cf-ffd2-5ac85cab7635"
      },
      "outputs": [],
      "source": [
        "# Another sample dataframe df1 - using NumPy array with datetime index and labeled column\n",
        "df1 = pd.date_range('20230901', periods=6)\n",
        "df1 = pd.DataFrame(np.random.randn(6, 4), index=df1, columns=list('ABCD'))\n",
        "df1 # Display dataframe df1"
      ]
    },
    {
      "cell_type": "markdown",
      "metadata": {
        "id": "WPq7pDdRaLxa"
      },
      "source": [
        "### Visualización de los datos"
      ]
    },
    {
      "cell_type": "code",
      "execution_count": null,
      "metadata": {
        "colab": {
          "base_uri": "https://localhost:8080/",
          "height": 112
        },
        "id": "GCJhagxHaLxb",
        "outputId": "e4d7dce7-bbf1-4779-93c5-f712f38768ed"
      },
      "outputs": [],
      "source": [
        "df1.head(2) # View top data"
      ]
    },
    {
      "cell_type": "code",
      "execution_count": null,
      "metadata": {
        "colab": {
          "base_uri": "https://localhost:8080/",
          "height": 112
        },
        "id": "TpoE_57AaLxb",
        "outputId": "b6458604-3145-4575-fce3-cef60b199f0e"
      },
      "outputs": [],
      "source": [
        "df1.tail(2) # View bottom data"
      ]
    },
    {
      "cell_type": "code",
      "execution_count": null,
      "metadata": {
        "colab": {
          "base_uri": "https://localhost:8080/"
        },
        "id": "---Fd_lxaLxb",
        "outputId": "16056395-4411-4687-ba3e-4eee3c407dbb"
      },
      "outputs": [],
      "source": [
        "df1.index # Display index column"
      ]
    },
    {
      "cell_type": "code",
      "execution_count": null,
      "metadata": {
        "colab": {
          "base_uri": "https://localhost:8080/"
        },
        "id": "JJQZHs6_aLxb",
        "outputId": "8f4da747-f64e-4b77-bcbc-842ad9043f82"
      },
      "outputs": [],
      "source": [
        "df1.dtypes # Inspect datatypes"
      ]
    },
    {
      "cell_type": "code",
      "execution_count": null,
      "metadata": {
        "colab": {
          "base_uri": "https://localhost:8080/",
          "height": 300
        },
        "id": "iXQlWjgnaLxb",
        "outputId": "fe1080b4-bf34-4ed3-844b-4d88050fdd81"
      },
      "outputs": [],
      "source": [
        "df1.describe() # Display quick statistics summary of data"
      ]
    },
    {
      "cell_type": "markdown",
      "metadata": {
        "id": "-u5kLGgGaLxc"
      },
      "source": [
        "### Subconfiguración, intervalos e indexación"
      ]
    },
    {
      "cell_type": "code",
      "execution_count": null,
      "metadata": {
        "colab": {
          "base_uri": "https://localhost:8080/",
          "height": 238
        },
        "id": "Qfj6BGbocq1S",
        "outputId": "30419c9f-1057-462d-bdda-972e785ba84a"
      },
      "outputs": [],
      "source": [
        "# Recuerda\n",
        "df1"
      ]
    },
    {
      "cell_type": "code",
      "execution_count": null,
      "metadata": {
        "colab": {
          "base_uri": "https://localhost:8080/",
          "height": 175
        },
        "id": "AeW6TxwnaLxc",
        "outputId": "ed1b82c6-c92d-427d-f51c-af0f1adc726b"
      },
      "outputs": [],
      "source": [
        "df1.T # Transpose data"
      ]
    },
    {
      "cell_type": "code",
      "execution_count": null,
      "metadata": {
        "colab": {
          "base_uri": "https://localhost:8080/",
          "height": 238
        },
        "id": "pJ3M_pXjaLxc",
        "outputId": "284aade9-32e7-430c-fe32-40534257b246"
      },
      "outputs": [],
      "source": [
        "df1.sort_index(axis=1, ascending=False) # Sort by an axis"
      ]
    },
    {
      "cell_type": "code",
      "execution_count": null,
      "metadata": {
        "colab": {
          "base_uri": "https://localhost:8080/",
          "height": 238
        },
        "id": "YSPdMPC8aLxc",
        "outputId": "29552023-a477-41d3-e32c-9efe205c938f"
      },
      "outputs": [],
      "source": [
        "df1.sort_values(by='B') # Sort by values"
      ]
    },
    {
      "cell_type": "code",
      "execution_count": null,
      "metadata": {
        "id": "XpNxrPoQaLxd"
      },
      "outputs": [],
      "source": [
        "df1['A'] # Select column A"
      ]
    },
    {
      "cell_type": "code",
      "execution_count": null,
      "metadata": {
        "colab": {
          "base_uri": "https://localhost:8080/",
          "height": 143
        },
        "id": "E3_jGrblaLxd",
        "outputId": "c523c0d9-a2dd-49cd-b88f-ce8bae608c4f"
      },
      "outputs": [],
      "source": [
        "df1[0:3] # Select index 0 to 2"
      ]
    },
    {
      "cell_type": "code",
      "execution_count": null,
      "metadata": {
        "id": "lzHwdHREaLxd"
      },
      "outputs": [],
      "source": [
        "df1['20130102':'20130104'] # Select from index matching the values"
      ]
    },
    {
      "cell_type": "code",
      "execution_count": null,
      "metadata": {
        "colab": {
          "base_uri": "https://localhost:8080/",
          "height": 238
        },
        "id": "yLmesixHaLxd",
        "outputId": "454f97bd-5636-4624-cf8e-bb07af8cd84b"
      },
      "outputs": [],
      "source": [
        "df1.loc[:, ['A', 'B']] # Select on a multi-axis by label"
      ]
    },
    {
      "cell_type": "code",
      "execution_count": null,
      "metadata": {
        "colab": {
          "base_uri": "https://localhost:8080/"
        },
        "id": "c3qk8zTvaLxd",
        "outputId": "6bcb9124-cad6-4523-9c4d-8d28cbe15d40"
      },
      "outputs": [],
      "source": [
        "df1.iloc[3] # Select via the position of the passed integers"
      ]
    },
    {
      "cell_type": "code",
      "execution_count": null,
      "metadata": {
        "colab": {
          "base_uri": "https://localhost:8080/",
          "height": 238
        },
        "id": "9DDnkU6iaLxd",
        "outputId": "7d8cafa8-d0a6-4c32-a678-2e2cffb18bfb"
      },
      "outputs": [],
      "source": [
        "df1[df1 > 0] # Select values from a DataFrame where a boolean condition is met"
      ]
    },
    {
      "cell_type": "code",
      "execution_count": null,
      "metadata": {
        "colab": {
          "base_uri": "https://localhost:8080/",
          "height": 112
        },
        "id": "medJoAYyaLxe",
        "outputId": "3dc35e94-bb82-4226-80f4-3450eeecf43e"
      },
      "outputs": [],
      "source": [
        "df2 = df1.copy() # Copy the df1 dataset to df2\n",
        "df2['E'] = ['one', 'one', 'two', 'three', 'four', 'three'] # Add column E with value\n",
        "df2[df2['E'].isin(['two', 'four'])] # Use isin method for filtering"
      ]
    },
    {
      "cell_type": "markdown",
      "metadata": {
        "id": "HlitlhQbaLxe"
      },
      "source": [
        "### Pérdida de datos\n",
        "\n",
        "Pandas utiliza principalmente el valor `np.nan` para representar los datos faltantes. No está incluido en los cálculos de forma predeterminada."
      ]
    },
    {
      "cell_type": "code",
      "execution_count": null,
      "metadata": {
        "id": "2_PQMO2yaLxe"
      },
      "outputs": [],
      "source": [
        "df = pd.DataFrame({'num_legs': [2, 4, np.nan, 0],\n",
        "                   'num_wings': [2, 0, 0, 0],\n",
        "                   'num_specimen_seen': [10, np.nan, 1, 8]},\n",
        "                   index=['falcon', 'dog', 'spider', 'fish'])"
      ]
    },
    {
      "cell_type": "code",
      "execution_count": null,
      "metadata": {
        "colab": {
          "base_uri": "https://localhost:8080/",
          "height": 112
        },
        "id": "tmkP7UTgaLxe",
        "outputId": "14a4d5e8-6697-475d-b8b4-c77fee8eba91"
      },
      "outputs": [],
      "source": [
        "df.dropna(how='any') # Drop any rows that have missing data"
      ]
    },
    {
      "cell_type": "code",
      "execution_count": null,
      "metadata": {
        "colab": {
          "base_uri": "https://localhost:8080/",
          "height": 175
        },
        "id": "fFH_seMNaLxe",
        "outputId": "e92a2a3e-72cb-467a-b039-82cb00003f2b"
      },
      "outputs": [],
      "source": [
        "df.dropna(how='any', axis=1) # Drop any columns that have missing data"
      ]
    },
    {
      "cell_type": "code",
      "execution_count": null,
      "metadata": {
        "colab": {
          "base_uri": "https://localhost:8080/",
          "height": 175
        },
        "id": "n93A5l66aLxf",
        "outputId": "a2ed27fd-e960-4c6e-ec23-4e2607b903de"
      },
      "outputs": [],
      "source": [
        "df.fillna(value=5) # Fill missing data with value 5"
      ]
    },
    {
      "cell_type": "code",
      "execution_count": null,
      "metadata": {
        "colab": {
          "base_uri": "https://localhost:8080/",
          "height": 175
        },
        "id": "FWXN6-0xaLxf",
        "outputId": "ceddb4c6-6cbd-4d90-eb95-5b242ae7d0fe"
      },
      "outputs": [],
      "source": [
        "pd.isna(df) # To get boolean mask where data is missing"
      ]
    },
    {
      "cell_type": "markdown",
      "metadata": {
        "id": "siXIgsR1aLxf"
      },
      "source": [
        "### Administración de archivos"
      ]
    },
    {
      "cell_type": "code",
      "execution_count": null,
      "metadata": {
        "id": "vzcBlGBJaLxf"
      },
      "outputs": [],
      "source": [
        "df = pd.DataFrame({'num_legs': [2, 4, np.nan, 0],\n",
        "                   'num_wings': [2, 0, 0, 0],\n",
        "                   'num_specimen_seen': [10, np.nan, 1, 8]},\n",
        "                   index=['falcon', 'dog', 'spider', 'fish'])"
      ]
    },
    {
      "cell_type": "code",
      "execution_count": null,
      "metadata": {
        "id": "84aMCiLbaLxf"
      },
      "outputs": [],
      "source": [
        "df.to_csv('animales.csv') # Write to CSV file"
      ]
    },
    {
      "cell_type": "code",
      "execution_count": null,
      "metadata": {
        "id": "55oBcO-faLxf"
      },
      "outputs": [],
      "source": [
        "pd.read_csv('animales.csv') # Read from CSV file"
      ]
    },
    {
      "cell_type": "code",
      "execution_count": null,
      "metadata": {
        "id": "IfnRjsU_aLxg"
      },
      "outputs": [],
      "source": [
        "df.to_excel('animales.xlsx', sheet_name='Pandas') # Write to Microsoft Excel file"
      ]
    },
    {
      "cell_type": "code",
      "execution_count": null,
      "metadata": {
        "colab": {
          "base_uri": "https://localhost:8080/",
          "height": 175
        },
        "id": "2D7iY1g_aLxg",
        "outputId": "0828ccb4-c7c6-4ad0-c4a4-be65b7f52431"
      },
      "outputs": [],
      "source": [
        "pd.read_excel('animales.xlsx', 'Pandas', index_col=None, na_values=['NA']) # Read from Microsoft Excel file"
      ]
    },
    {
      "cell_type": "markdown",
      "metadata": {
        "id": "pI7WwYTeaLxg"
      },
      "source": [
        "### Gráficos"
      ]
    },
    {
      "cell_type": "code",
      "execution_count": null,
      "metadata": {
        "colab": {
          "base_uri": "https://localhost:8080/"
        },
        "id": "CrZUkRLmaLxg",
        "outputId": "a2f284c4-0dda-44fe-bf21-233d529cdcb9"
      },
      "outputs": [],
      "source": [
        "# Install Matplotlib using pip\n",
        "!pip install matplotlib"
      ]
    },
    {
      "cell_type": "code",
      "execution_count": null,
      "metadata": {
        "id": "z2P4DqrBaLxg"
      },
      "outputs": [],
      "source": [
        "from matplotlib import pyplot as plt # Import Matplotlib module"
      ]
    },
    {
      "cell_type": "code",
      "execution_count": null,
      "metadata": {
        "colab": {
          "base_uri": "https://localhost:8080/"
        },
        "id": "ASscHEsHaLxh",
        "outputId": "39ebe74d-6ea6-4006-9c23-e31739086283"
      },
      "outputs": [],
      "source": [
        "# Generate random time-series data\n",
        "ts = pd.Series(np.random.randn(1000),index=pd.date_range('1/1/2022', periods=1000))\n",
        "ts.head()"
      ]
    },
    {
      "cell_type": "code",
      "execution_count": null,
      "metadata": {
        "colab": {
          "base_uri": "https://localhost:8080/",
          "height": 639
        },
        "id": "tlpYqnJFaLxh",
        "outputId": "87d6a4c5-4b9d-4a32-9a3a-6fce8e5a3406"
      },
      "outputs": [],
      "source": [
        "ts = ts.cumsum()\n",
        "ts.plot() # Plot graph\n",
        "plt.show()"
      ]
    },
    {
      "cell_type": "code",
      "execution_count": null,
      "metadata": {
        "colab": {
          "base_uri": "https://localhost:8080/",
          "height": 206
        },
        "id": "c4g4uZEDaLxh",
        "outputId": "302fef35-83a5-4ac9-9dfc-ad47b54e65b6"
      },
      "outputs": [],
      "source": [
        "# On a DataFrame, the plot() method is convenient to plot all of the columns with labels\n",
        "df4 = pd.DataFrame(np.random.randn(1000, 4), index=ts.index,columns=['A', 'B', 'C', 'D'])\n",
        "df4 = df4.cumsum()\n",
        "df4.head()"
      ]
    },
    {
      "cell_type": "code",
      "execution_count": null,
      "metadata": {
        "id": "3HnjnZ_1aLxh"
      },
      "outputs": [],
      "source": [
        "df4.plot()\n",
        "plt.show()"
      ]
    },
    {
      "cell_type": "markdown",
      "metadata": {
        "id": "zqhhBumXhw4b"
      },
      "source": [
        "### Gráficos con plotly"
      ]
    },
    {
      "cell_type": "code",
      "execution_count": null,
      "metadata": {
        "colab": {
          "base_uri": "https://localhost:8080/",
          "height": 1000
        },
        "id": "SRgY1-YEhFfg",
        "outputId": "e87db7f6-79c2-48b1-f309-9aefe94f3c3c"
      },
      "outputs": [],
      "source": [
        "pip install \"jupyterlab>=3\" \"ipywidgets>=7.6\"\n",
        "pip install jupyter-dash\n",
        "pip install plotly"
      ]
    },
    {
      "cell_type": "code",
      "execution_count": null,
      "metadata": {
        "id": "zaAEx0LPe5M0"
      },
      "outputs": [],
      "source": [
        "import plotly.express as px"
      ]
    },
    {
      "cell_type": "code",
      "execution_count": null,
      "metadata": {
        "colab": {
          "base_uri": "https://localhost:8080/",
          "height": 542
        },
        "id": "RjXVqY3cgiwZ",
        "outputId": "cfb55aff-9f2f-4610-f3f0-bd2edf85735d"
      },
      "outputs": [],
      "source": [
        "fig = px.bar(df4)\n",
        "fig.show()\n"
      ]
    },
    {
      "cell_type": "code",
      "execution_count": null,
      "metadata": {
        "colab": {
          "base_uri": "https://localhost:8080/",
          "height": 317
        },
        "id": "h5oRDvmdgr3i",
        "outputId": "26b92b44-b2c5-4aef-ed37-0f2fb1523e58"
      },
      "outputs": [],
      "source": [
        "# Un mapa con plotly\n",
        "# Si usas mapbox, algunas tiles necesitan TOKEN\n",
        "import pandas as pd\n",
        "us_cities = pd.read_csv(\"https://raw.githubusercontent.com/plotly/datasets/master/us-cities-top-1k.csv\")\n",
        "\n",
        "import plotly.express as px\n",
        "\n",
        "fig = px.scatter_mapbox(us_cities, lat=\"lat\", lon=\"lon\", hover_name=\"City\", hover_data=[\"State\", \"Population\"],\n",
        "                        color_discrete_sequence=[\"fuchsia\"], zoom=3, height=300)\n",
        "fig.update_layout(mapbox_style=\"open-street-map\")\n",
        "fig.update_layout(margin={\"r\":0,\"t\":0,\"l\":0,\"b\":0})\n",
        "fig.show()"
      ]
    }
  ],
  "metadata": {
    "colab": {
      "collapsed_sections": [
        "fPs6rLdfaLxQ"
      ],
      "provenance": []
    },
    "kernelspec": {
      "display_name": "Python 3",
      "language": "python",
      "name": "python3"
    },
    "language_info": {
      "codemirror_mode": {
        "name": "ipython",
        "version": 3
      },
      "file_extension": ".py",
      "mimetype": "text/x-python",
      "name": "python",
      "nbconvert_exporter": "python",
      "pygments_lexer": "ipython3",
      "version": "3.6.3"
    }
  },
  "nbformat": 4,
  "nbformat_minor": 0
}
