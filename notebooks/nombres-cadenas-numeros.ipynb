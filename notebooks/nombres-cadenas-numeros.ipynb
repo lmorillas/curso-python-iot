{
 "cells": [
  {
   "cell_type": "markdown",
   "metadata": {},
   "source": [
    "# Nombres, cadenas, números"
   ]
  },
  {
   "cell_type": "code",
   "execution_count": null,
   "metadata": {},
   "outputs": [],
   "source": [
    "print(\"Mi nombre es Luis\")"
   ]
  },
  {
   "cell_type": "markdown",
   "metadata": {},
   "source": [
    "## Variables\n",
    "\n",
    "Mofificamos la línea anterior para que muestre el valor de una variable `nombre`:\n",
    "\n",
    "```python\n",
    "nombre = \"Luis\"\n",
    "print(\"Mi nombre es\", nombre)\n",
    "```\n"
   ]
  },
  {
   "cell_type": "code",
   "execution_count": null,
   "metadata": {},
   "outputs": [],
   "source": [
    "# Escribe las instrucciones y evalúalas con Ctrl+Enter"
   ]
  }
 ],
 "metadata": {
  "language_info": {
   "name": "python"
  },
  "orig_nbformat": 4
 },
 "nbformat": 4,
 "nbformat_minor": 2
}
