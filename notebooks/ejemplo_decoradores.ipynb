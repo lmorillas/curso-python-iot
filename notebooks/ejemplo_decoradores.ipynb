{
  "cells": [
    {
      "cell_type": "markdown",
      "metadata": {
        "id": "fZgmkSiBDBNB"
      },
      "source": [
        "# Decoradores"
      ]
    },
    {
      "cell_type": "markdown",
      "metadata": {
        "id": "2vW5AX92DFJ2"
      },
      "source": [
        "Un decorador es una función que toma una función como entrada y devuelve una nueva función. Se usan para modificar el comportamiento de las funciones o clases de una manera limpia, reutilizable y legible.\n",
        "\n",
        "## Sintaxis\n",
        "\n",
        "La sintaxis básica para usar un decorador es preceder la definición de una función con el símbolo `@` seguido del nombre del decorador.\n",
        "\n",
        "```python\n",
        "@decorador\n",
        "def mi_funcion():\n",
        "    pass\n",
        "```"
      ]
    },
    {
      "cell_type": "code",
      "execution_count": null,
      "metadata": {
        "id": "1Eh8vRMpDAJD"
      },
      "outputs": [],
      "source": [
        "# Ejemplo\n",
        "import time\n",
        "\n",
        "def timer_decorator(func):\n",
        "    def wrapper(*args, **kwargs):\n",
        "        start_time = time.time()\n",
        "        result = func(*args, **kwargs)\n",
        "        end_time = time.time()\n",
        "        print(f\"{func.__name__} se ejecutó en {end_time - start_time} segundos\")\n",
        "        return result\n",
        "    return wrapper\n",
        "\n",
        "@timer_decorator\n",
        "def mi_funcion(n):\n",
        "    suma = 0\n",
        "    for i in range(n):\n",
        "        suma += i\n",
        "    return suma"
      ]
    },
    {
      "cell_type": "code",
      "execution_count": null,
      "metadata": {
        "colab": {
          "base_uri": "https://localhost:8080/"
        },
        "id": "wDQpTMnUDVgf",
        "outputId": "1ed55a75-738a-4d64-9b4c-12bb9855ad99"
      },
      "outputs": [],
      "source": [
        "mi_funcion(10)"
      ]
    },
    {
      "cell_type": "markdown",
      "metadata": {
        "id": "UNLKpiOcEXjD"
      },
      "source": [
        "## Encadenar decoradores\n",
        "\n",
        "En Python, es posible encadenar múltiples decoradores. Los decoradores se aplican en el orden en que se definen, es decir, de abajo hacia arriba. Veamos un ejemplo práctico para entender mejor cómo funciona el encadenamiento de decoradores.\n",
        "\n",
        "Supongamos que tenemos dos decoradores: uno que duplica el valor devuelto por una función (`duplicador`) y otro que suma 5 al valor devuelto (`suma_cinco`)."
      ]
    },
    {
      "cell_type": "code",
      "execution_count": null,
      "metadata": {
        "colab": {
          "base_uri": "https://localhost:8080/"
        },
        "id": "8rrprdzyDZOC",
        "outputId": "8189102a-8fec-4a76-f897-40a58f40212c"
      },
      "outputs": [],
      "source": [
        "def duplicador(func):\n",
        "    def wrapper(*args, **kwargs):\n",
        "        resultado = func(*args, **kwargs)\n",
        "        return resultado * 2\n",
        "    return wrapper\n",
        "\n",
        "def suma_cinco(func):\n",
        "    def wrapper(*args, **kwargs):\n",
        "        resultado = func(*args, **kwargs)\n",
        "        return resultado + 5\n",
        "    return wrapper\n",
        "\n",
        "@duplicador\n",
        "@suma_cinco\n",
        "def suma(a, b):\n",
        "    return a + b\n",
        "\n",
        "resultado = suma(3, 2)\n",
        "print(resultado)  # Debería imprimir 20"
      ]
    },
    {
      "cell_type": "code",
      "execution_count": null,
      "metadata": {
        "colab": {
          "base_uri": "https://localhost:8080/"
        },
        "id": "hCcT1awQDvLA",
        "outputId": "b21f69bf-7391-4fd2-89a6-eaf739aa27be"
      },
      "outputs": [],
      "source": [
        "# Que devolverá ahora la función\n",
        "\n",
        "@duplicador\n",
        "@suma_cinco\n",
        "@duplicador\n",
        "def suma(a, b):\n",
        "    return a + b\n",
        "\n",
        "suma(3, 2)"
      ]
    },
    {
      "cell_type": "code",
      "execution_count": null,
      "metadata": {
        "id": "AgAshfowFDqz"
      },
      "outputs": [],
      "source": []
    }
  ],
  "metadata": {
    "colab": {
      "provenance": []
    },
    "kernelspec": {
      "display_name": "Python 3",
      "name": "python3"
    },
    "language_info": {
      "name": "python"
    }
  },
  "nbformat": 4,
  "nbformat_minor": 0
}
