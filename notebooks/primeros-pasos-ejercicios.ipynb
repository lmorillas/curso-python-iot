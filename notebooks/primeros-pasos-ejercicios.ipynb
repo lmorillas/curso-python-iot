{
 "cells": [
  {
   "cell_type": "markdown",
   "metadata": {},
   "source": [
    "## Ejercicios iniciales basados en el tutorial de Python"
   ]
  },
  {
   "cell_type": "markdown",
   "metadata": {},
   "source": [
    "> Nota: Si quieres ejecutar un intérprete interactivo en una celda de Colab, \n",
    "\n",
    "```bash\n",
    "!pip install colab-xterm\n",
    "%load_ext colabxterm\n",
    "%xterm\n",
    "```\n",
    "\n",
    "Y luego ejecutar en el terminal que aparece:\n",
    "\n",
    "```python``` o ```ipython```"
   ]
  },
  {
   "cell_type": "markdown",
   "metadata": {},
   "source": [
    "### Ejercicios de números\n",
    "\n",
    "Sigue el tutorial e introduce el código de los ejemplos\n",
    "\n",
    "https://docs.python.org/3/tutorial/introduction.html#numbers\n",
    "\n",
    "Los símbolos `>>>` indican que es código Python y el resultado que se obtiene al ejecutarlo. Esos símbolos no hay que introducirlos. Por ejemplo:\n",
    "\n",
    "```python\n",
    ">>> 2 + 2\n",
    "4\n",
    "```\n",
    "Tienes que introducir\n",
    "```\n",
    "2 + 2\n",
    "``` \n",
    "y pulsar `Ctrl + Enter` para obtener el resultado `4`\n"
   ]
  },
  {
   "cell_type": "code",
   "execution_count": null,
   "metadata": {},
   "outputs": [],
   "source": []
  },
  {
   "cell_type": "markdown",
   "metadata": {},
   "source": [
    "### Ejercicios de texto\n",
    "\n",
    "Sigue el tutorial e introduce el código de los ejemplos\n",
    "\n",
    "https://docs.python.org/3/tutorial/introduction.html#text"
   ]
  },
  {
   "cell_type": "code",
   "execution_count": null,
   "metadata": {},
   "outputs": [],
   "source": []
  },
  {
   "cell_type": "markdown",
   "metadata": {},
   "source": [
    "### Ejercicios de listas\n",
    "\n",
    "Sigue el tutorial e introduce el código de los ejemplos\n",
    "\n",
    "https://docs.python.org/3/tutorial/introduction.html#lists"
   ]
  },
  {
   "cell_type": "code",
   "execution_count": null,
   "metadata": {},
   "outputs": [],
   "source": []
  }
 ],
 "metadata": {
  "language_info": {
   "name": "python"
  },
  "orig_nbformat": 4
 },
 "nbformat": 4,
 "nbformat_minor": 2
}
