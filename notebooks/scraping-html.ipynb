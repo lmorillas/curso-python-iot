{
 "cells": [
  {
   "cell_type": "markdown",
   "metadata": {},
   "source": [
    "# Introducción al Web Scraping con Python\n",
    "\n",
    "Hemos trabajado con ficheros que tienen datos estructurados (CSV, JSON, )\n",
    "\n",
    "Pero, ¿qué pasa cuando los datos que queremos obtener están en una página web? ¿Cómo podemos extraerlos?\n",
    "\n",
    "Para ello, podemos usar una técnica llamada Web Scraping, que consiste en analizar el código HTML de una página web para extraer los datos que nos interesan.\n",
    "\n"
   ]
  },
  {
   "cell_type": "code",
   "execution_count": null,
   "metadata": {},
   "outputs": [],
   "source": [
    "# Instalación librerías\n",
    "! pip install requests beautifulsoup4 lxml"
   ]
  }
 ],
 "metadata": {
  "kernelspec": {
   "display_name": "env",
   "language": "python",
   "name": "python3"
  },
  "language_info": {
   "name": "python",
   "version": "3.6.3"
  },
  "orig_nbformat": 4
 },
 "nbformat": 4,
 "nbformat_minor": 2
}
