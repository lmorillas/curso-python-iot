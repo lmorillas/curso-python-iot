{
  "cells": [
    {
      "cell_type": "markdown",
      "metadata": {
        "id": "eXGNCDuj3Ua0"
      },
      "source": [
        "# Introducción al Web Scraping con Python\n",
        "\n",
        "Hemos trabajado con ficheros que tienen datos estructurados (CSV, JSON, )\n",
        "\n",
        "Pero, ¿qué pasa cuando los datos que queremos obtener están en una página web? ¿Cómo podemos extraerlos?\n",
        "\n",
        "Para ello, podemos usar una técnica llamada Web Scraping, que consiste en analizar el código HTML de una página web para extraer los datos que nos interesan.\n",
        "\n"
      ]
    },
    {
      "cell_type": "markdown",
      "metadata": {
        "id": "UjiVARMzimtX"
      },
      "source": [
        "## Un ejemplo sencillo"
      ]
    },
    {
      "cell_type": "code",
      "execution_count": null,
      "metadata": {
        "id": "Rc_omvCR3Ua2"
      },
      "outputs": [],
      "source": [
        "# Instalación librerías\n",
        "! pip install requests beautifulsoup4 lxml"
      ]
    },
    {
      "cell_type": "code",
      "execution_count": null,
      "metadata": {
        "id": "RZjm6wg83ei3"
      },
      "outputs": [],
      "source": [
        "import requests\n",
        "\n",
        "url = \"https://realpython.github.io/fake-jobs/\"\n",
        "\n",
        "r = requests.get(url)\n",
        "\n",
        "r.status_code"
      ]
    },
    {
      "cell_type": "code",
      "execution_count": null,
      "metadata": {
        "id": "orBoaTnj4P7k"
      },
      "outputs": [],
      "source": [
        "print(r.content[:200])"
      ]
    },
    {
      "cell_type": "code",
      "execution_count": null,
      "metadata": {
        "id": "86QVoX2z4t1X"
      },
      "outputs": [],
      "source": [
        "# creación de la \"sopa\"\n",
        "from bs4 import BeautifulSoup\n",
        "\n",
        "soup = BeautifulSoup(r.content, 'html.parser')"
      ]
    },
    {
      "cell_type": "code",
      "execution_count": null,
      "metadata": {
        "id": "_v-cF6gv5MtM"
      },
      "outputs": [],
      "source": [
        "# Buscando algunos elementos\n",
        "\n",
        "soup.find('h1')"
      ]
    },
    {
      "cell_type": "code",
      "execution_count": null,
      "metadata": {
        "id": "1709P1hS5ZKN"
      },
      "outputs": [],
      "source": [
        "soup.find('h1').text"
      ]
    },
    {
      "cell_type": "code",
      "execution_count": null,
      "metadata": {
        "id": "iSqvXnztTEj9"
      },
      "outputs": [],
      "source": [
        "# limpiar cadena\n",
        "soup.find('h1').text.strip()"
      ]
    },
    {
      "cell_type": "code",
      "execution_count": null,
      "metadata": {
        "id": "DinwoWwN5cjO"
      },
      "outputs": [],
      "source": [
        "# subtitulo: acceso por la clase del div\n",
        "subtitulo = soup.find(class_='subtitle')\n",
        "subtitulo.text"
      ]
    },
    {
      "cell_type": "code",
      "execution_count": null,
      "metadata": {
        "id": "uXDuY93hdikl"
      },
      "outputs": [],
      "source": [
        "subtitulo.text.strip()"
      ]
    },
    {
      "cell_type": "code",
      "execution_count": null,
      "metadata": {
        "id": "hVALx2ZY6GKp"
      },
      "outputs": [],
      "source": [
        "# ofertas de trabajo\n",
        "\n",
        "ofertas = soup.find_all('h2', class_='title')\n",
        "len(ofertas)"
      ]
    },
    {
      "cell_type": "code",
      "execution_count": null,
      "metadata": {
        "id": "oInDxBEGemtn"
      },
      "outputs": [],
      "source": [
        "txt_ofertas = [o.text.strip() for o in ofertas]\n",
        "print(txt_ofertas)"
      ]
    },
    {
      "cell_type": "code",
      "execution_count": null,
      "metadata": {
        "id": "umfISM-9ezKK"
      },
      "outputs": [],
      "source": [
        "# imágenes Extacción atributo src\n",
        "\n",
        "imagen = soup.select('.card img')[0]\n",
        "imagen['src']"
      ]
    },
    {
      "cell_type": "code",
      "execution_count": null,
      "metadata": {
        "id": "aspG0ht5gPc1"
      },
      "outputs": [],
      "source": [
        "# links Extracción href\n",
        "# primera oferta\n",
        "oferta1 = soup.find(class_=\"card\")\n",
        "oferta1"
      ]
    },
    {
      "cell_type": "code",
      "execution_count": null,
      "metadata": {
        "id": "qVBFcpROgiwD"
      },
      "outputs": [],
      "source": [
        "## Enlace de Apply\n",
        "enlace = [e['href'] for e in oferta1.select('a') if 'Apply' in e.text]\n",
        "enlace"
      ]
    },
    {
      "cell_type": "code",
      "execution_count": null,
      "metadata": {
        "id": "w518y_WohCzP"
      },
      "outputs": [],
      "source": [
        "# podemos seguir el nuevo enlace (araña)\n",
        "nuevo_enlace = requests.get(enlace[0])\n",
        "\n",
        "soup2 = BeautifulSoup(nuevo_enlace.content, 'html.parser')\n"
      ]
    },
    {
      "cell_type": "code",
      "execution_count": null,
      "metadata": {
        "id": "jxcHxREmhhhv"
      },
      "outputs": [],
      "source": [
        "texto = soup2.select('.content p')[0]\n",
        "texto.text.strip()"
      ]
    },
    {
      "cell_type": "markdown",
      "metadata": {
        "id": "qVwT2y_MCOOG"
      },
      "source": [
        "## Un ejemplo más complejo: Películas de IMDb\n",
        "\n",
        "> En este caso la empresa está interesada en que no recojamos la información. Lo usamos como ejercicio para acceder a datos con `requests-html`"
      ]
    },
    {
      "cell_type": "code",
      "execution_count": null,
      "metadata": {
        "id": "kPJr6nTl7mav"
      },
      "outputs": [],
      "source": [
        "!pip install requests-html"
      ]
    },
    {
      "cell_type": "code",
      "execution_count": null,
      "metadata": {
        "id": "Nha9GwSm7ouC"
      },
      "outputs": [],
      "source": [
        "from requests_html import HTMLSession\n",
        "\n",
        "headers = {'User-Agent': 'Mozilla/5.0 (Windows NT 10.0; Win64; x64) AppleWebKit/537.36 (KHTML, like Gecko) Chrome/111.0.0.0 Safari/537.36',\n",
        "           \"accept-language\": \"es-ES,es;q=0.9,en;q=0.8,gl;q=0.7,ca;q=0.6\"}\n",
        "\n",
        "session = HTMLSession()\n",
        "\n",
        "url = \"https://www.imdb.com/chart/top/\"\n",
        "\n",
        "# prueba con y sin headers\n",
        "r = session.get(url)\n",
        "#r = session.get(url, headers=headers)\n"
      ]
    },
    {
      "cell_type": "code",
      "execution_count": null,
      "metadata": {
        "id": "2fvxR0at8P8m"
      },
      "outputs": [],
      "source": [
        "r.status_code"
      ]
    },
    {
      "cell_type": "code",
      "execution_count": null,
      "metadata": {
        "id": "1obBuzOT8S4z"
      },
      "outputs": [],
      "source": [
        "titulo = r.html.find('h1', first=True)\n",
        "\n",
        "titulo.text"
      ]
    },
    {
      "cell_type": "code",
      "execution_count": null,
      "metadata": {
        "id": "6ypmAWZK8uYm"
      },
      "outputs": [],
      "source": [
        "subtitulo = r.html.find('.ipc-title__description', first=True)\n",
        "subtitulo.text"
      ]
    },
    {
      "cell_type": "code",
      "execution_count": null,
      "metadata": {
        "id": "15PhlNah9wPt"
      },
      "outputs": [],
      "source": [
        "titulos = r.html.find('.ipc-metadata-list-summary-item .ipc-title__text')\n",
        "\n",
        "len(titulos)"
      ]
    },
    {
      "cell_type": "code",
      "execution_count": null,
      "metadata": {
        "id": "Z3bTnkUw-FRO"
      },
      "outputs": [],
      "source": [
        "titulostxt = [e.text for e in titulos]"
      ]
    },
    {
      "cell_type": "code",
      "execution_count": null,
      "metadata": {
        "id": "EX45XNJy-emO"
      },
      "outputs": [],
      "source": [
        "links = r.html.find('.ipc-metadata-list-summary-item .ipc-title-link-wrapper')\n",
        "\n",
        "len(links)"
      ]
    },
    {
      "cell_type": "code",
      "execution_count": null,
      "metadata": {
        "id": "_nQNv2bB_O8c"
      },
      "outputs": [],
      "source": [
        "links_pelis = [l.attrs['href'] for l in links]\n",
        "links_pelis[:10]"
      ]
    },
    {
      "cell_type": "code",
      "execution_count": null,
      "metadata": {
        "id": "5TYlu_Re_SdX"
      },
      "outputs": [],
      "source": [
        "imagenes = r.html.find('.ipc-media img')\n",
        "len(imagenes)"
      ]
    },
    {
      "cell_type": "code",
      "execution_count": null,
      "metadata": {
        "id": "mYYGiKvgBF5K"
      },
      "outputs": [],
      "source": [
        "imagenes_src = [i.attrs['src'] for i in imagenes]\n",
        "\n",
        "print(imagenes_src[:5])"
      ]
    }
  ],
  "metadata": {
    "colab": {
      "provenance": []
    },
    "kernelspec": {
      "display_name": "env",
      "language": "python",
      "name": "python3"
    },
    "language_info": {
      "name": "python",
      "version": "3.6.3"
    },
    "orig_nbformat": 4
  },
  "nbformat": 4,
  "nbformat_minor": 0
}
