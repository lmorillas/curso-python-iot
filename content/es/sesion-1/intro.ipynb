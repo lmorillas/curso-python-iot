{
 "cells": [
  {
   "attachments": {},
   "cell_type": "markdown",
   "metadata": {},
   "source": [
    "# Notebook de introducción a Python\n",
    "* Instalación de Python\n",
    "* Entornos de desarrollo\n",
    "* Jupyter Notebook\n",
    "* Python como calculadora\n",
    "* Variables\n",
    "* Tipos de datos\n",
    "* Operadores\n",
    "* Funciones\n",
    "* Módulos\n",
    "* Ejercicios"
   ]
  },
  {
   "attachments": {},
   "cell_type": "markdown",
   "metadata": {},
   "source": [
    "[![Open In Colab](https://colab.research.google.com/assets/colab-badge.svg)](https://colab.research.google.com/drive/1Fhhp1iYj961VChyKOEAEzfi6VHvUVM7D?usp=sharing)"
   ]
  },
  {
   "attachments": {},
   "cell_type": "markdown",
   "metadata": {},
   "source": [
    "## Docs y links\n",
    "* https://www.jcchouinard.com/google-colab-with-python/\n",
    "* https://www.freecodecamp.org/news/google-colaboratory-python-code-in-your-google-drive/\n",
    "\n",
    "### Microsoft Learn\n",
    "* https://learn.microsoft.com/en-us/training/modules/intro-to-python\n",
    "* https://learn.microsoft.com/en-us/training/paths/beginner-python/\n",
    "* https://learn.microsoft.com/en-us/shows/intro-to-python-development/"
   ]
  }
 ],
 "metadata": {
  "language_info": {
   "name": "python"
  },
  "orig_nbformat": 4
 },
 "nbformat": 4,
 "nbformat_minor": 2
}
