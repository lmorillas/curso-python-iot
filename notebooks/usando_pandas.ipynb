{
  "cells": [
    {
      "cell_type": "markdown",
      "metadata": {
        "id": "pTyeTo4zW25d"
      },
      "source": [
        "# Usando Pandas"
      ]
    },
    {
      "cell_type": "markdown",
      "metadata": {
        "id": "f0FhrewPW7F0"
      },
      "source": [
        "## Pivot Tables\n",
        "\n",
        "Las tablas dinámicas (o `pivot_tables`) son una de las técnicas más útiles en el análisis de datos. Sirven para resumir, analizar, explorar y presentar los datos de origen en un formato fácil de entender. Pandas ofrece una función llamada `pivot_table` que es extremadamente versátil y potente para realizar este tipo de operaciones.\n",
        "\n",
        "### ¿Para qué sirven las tablas dinámicas?\n",
        "\n",
        "1. **Resumir Datos**: Pueden resumir un conjunto de datos grande y complicado en un formato más simple.\n",
        "2. **Analizar y Explorar**: Ayudan a explorar las relaciones entre variables y pueden ayudarte a responder preguntas específicas sobre tus datos.\n",
        "3. **Presentación de Datos**: Facilitan la representación gráfica de los datos resumidos.\n",
        "\n",
        "### Sintaxis Básica\n",
        "\n",
        "La sintaxis básica de `pivot_table` en Pandas es la siguiente:\n",
        "\n",
        "```python\n",
        "pandas.pivot_table(data, values=None, index=None, columns=None, aggfunc='mean', ...)\n",
        "```\n",
        "- `data`: DataFrame que contiene los datos.\n",
        "- `values`: Columna o columnas para agregar.\n",
        "- `index`: Columna, o lista de columnas, para usar como índices de la tabla dinámica.\n",
        "- `columns`: Columna o columnas para pivotar en nuevas columnas.\n",
        "- `aggfunc`: Función para aplicar a `values` si hay más de una entrada (por defecto es 'mean')."
      ]
    },
    {
      "cell_type": "code",
      "execution_count": null,
      "metadata": {
        "colab": {
          "base_uri": "https://localhost:8080/",
          "height": 677
        },
        "id": "SSLpUsjIW1Qe",
        "outputId": "267940e1-e611-46d5-dda1-d47e9657abd3"
      },
      "outputs": [],
      "source": [
        "import pandas as pd\n",
        "import numpy as np\n",
        "\n",
        "# Crear un DataFrame de ejemplo\n",
        "df = pd.DataFrame({\n",
        "    'Fecha': pd.date_range(start='2023-01-01', periods=20, freq='7D'),\n",
        "    'Departamento': np.random.choice(['Electrónica', 'Ropa', 'Alimentos'], 20),\n",
        "    'Ventas': np.random.randint(100, 2000, 20)\n",
        "})\n",
        "df"
      ]
    },
    {
      "cell_type": "code",
      "execution_count": null,
      "metadata": {
        "colab": {
          "base_uri": "https://localhost:8080/"
        },
        "id": "WB6Ph6rPXQYb",
        "outputId": "4c306640-c839-4df6-afa8-41829a1e54b7"
      },
      "outputs": [],
      "source": [
        "df.dtypes"
      ]
    },
    {
      "cell_type": "code",
      "execution_count": null,
      "metadata": {
        "id": "zS_5bnK_Xcvu"
      },
      "outputs": [],
      "source": [
        "# Crear una nueva columna 'Mes' basada en la columna 'Fecha'\n",
        "df['Mes'] = df['Fecha'].dt.month_name()"
      ]
    },
    {
      "cell_type": "code",
      "execution_count": null,
      "metadata": {
        "colab": {
          "base_uri": "https://localhost:8080/",
          "height": 677
        },
        "id": "Eyp89UpQXtUg",
        "outputId": "2c1140db-3cf1-4d1c-d251-76c190f85e3a"
      },
      "outputs": [],
      "source": [
        "df"
      ]
    },
    {
      "cell_type": "code",
      "execution_count": null,
      "metadata": {
        "colab": {
          "base_uri": "https://localhost:8080/",
          "height": 238
        },
        "id": "CHwcSVK2Xt15",
        "outputId": "d00c6e13-830a-4a66-ed52-b04537ef7b04"
      },
      "outputs": [],
      "source": [
        "# Creamos una tabla dinámica para resumir las ventas por `Departamento` y `Mes`:\n",
        "\n",
        "\n",
        "# Crear una tabla dinámica\n",
        "pivot_table = pd.pivot_table(df, values='Ventas', index='Mes',\n",
        "                             columns='Departamento',\n",
        "                             aggfunc=np.sum)\n",
        "\n",
        "pivot_table"
      ]
    },
    {
      "cell_type": "markdown",
      "metadata": {
        "id": "xIZOLSvTYSCt"
      },
      "source": [
        "### Ejercicio Propuesto\n",
        "\n",
        "1. Supongamos que además del DataFrame anterior, tenemos una columna adicional que representa el `Vendedor` para cada venta.\n",
        "2. Utiliza `pivot_table` para crear una tabla dinámica que muestre las ventas totales por `Departamento` y `Vendedor`.\n",
        "3. Guarda esta tabla dinámica en un nuevo archivo CSV.**texto en negrita**"
      ]
    },
    {
      "cell_type": "markdown",
      "metadata": {
        "id": "rgEc_SB4YZII"
      },
      "source": [
        "### Gráficos con Plotly y Pivot Tables\n"
      ]
    },
    {
      "cell_type": "code",
      "execution_count": null,
      "metadata": {
        "colab": {
          "base_uri": "https://localhost:8080/"
        },
        "id": "yCYLXU_dX6ov",
        "outputId": "da846d37-1e3b-408b-b960-4c8956b5c4cd"
      },
      "outputs": [],
      "source": [
        "pip install pandas plotly\n"
      ]
    },
    {
      "cell_type": "markdown",
      "metadata": {
        "id": "lSI66P5PYm4B"
      },
      "source": [
        "### Ventas por Departamento y Mes"
      ]
    },
    {
      "cell_type": "code",
      "execution_count": null,
      "metadata": {
        "colab": {
          "base_uri": "https://localhost:8080/",
          "height": 542
        },
        "id": "VOag259wYO-_",
        "outputId": "05d8c999-dfc1-4274-ab41-c4c20795b45d"
      },
      "outputs": [],
      "source": [
        "import plotly.express as px\n",
        "\n",
        "# Generar el gráfico de barras\n",
        "fig = px.bar(pivot_table.reset_index(), x='Mes', y=pivot_table.columns,\n",
        "             title=\"Ventas Mensuales por Departamento\")\n",
        "\n",
        "# Mostrar el gráfico\n",
        "fig.show()"
      ]
    },
    {
      "cell_type": "markdown",
      "metadata": {
        "id": "gyFcr86HY70A"
      },
      "source": [
        "### Tareas Propuestas\n",
        "\n",
        "1. Modifica el código anterior para crear un gráfico de línea en lugar de un gráfico de barras.\n",
        "2. Utiliza una tabla dinámica diferente como base para un nuevo gráfico. Podría ser ventas por vendedor y día de la semana, por ejemplo.\n"
      ]
    },
    {
      "cell_type": "code",
      "execution_count": null,
      "metadata": {
        "id": "0HSM0OcLZXCu"
      },
      "outputs": [],
      "source": []
    },
    {
      "cell_type": "markdown",
      "metadata": {
        "id": "6IJr6mk2Zjim"
      },
      "source": [
        "# Recopilación\n"
      ]
    },
    {
      "cell_type": "markdown",
      "metadata": {
        "id": "C5KXkdwXZz8W"
      },
      "source": [
        "## Creación de Dataframes\n",
        "\n",
        "```python\n",
        "pd.DataFrame(dict) # Desde diccionario\n",
        "pd.read_csv(file) # Desde un csv\n",
        "pd.read_excel (file) # Desde un excel\n",
        "pd.read_json(json) # Desde un json\n",
        "pd.read_html(uri) # Desde una web\n",
        "pd.read_sql(sql) # Desde una base de datos\n",
        "```"
      ]
    },
    {
      "cell_type": "markdown",
      "metadata": {
        "id": "XDHOgmuRak56"
      },
      "source": [
        "## Ordenación de valores e índices\n",
        "```python\n",
        "df.sort_values()  # Ordena los valores\n",
        "df.sort_index() # Ordena el índice\n",
        "```"
      ]
    },
    {
      "cell_type": "markdown",
      "metadata": {
        "id": "5TVt26MDbvFw"
      },
      "source": []
    },
    {
      "cell_type": "markdown",
      "metadata": {
        "id": "6hzqMaPbbvHg"
      },
      "source": [
        "## Búsqueda\n",
        "\n",
        " `loc` e `iloc` permiten acceder a un grupo de filas y columnas mediante etiquetas o índices.\n",
        "\n",
        "### `loc`: Búsqueda basada en etiquetas\n",
        "\n",
        "El atributo `loc` se basa en la etiqueta del índice para hacer la selección.\n"
      ]
    },
    {
      "cell_type": "code",
      "execution_count": null,
      "metadata": {
        "colab": {
          "base_uri": "https://localhost:8080/",
          "height": 175
        },
        "id": "vf4hPhVEZrAJ",
        "outputId": "a75726d8-c39a-4966-d04e-aa88ad47336c"
      },
      "outputs": [],
      "source": [
        "df = pd.DataFrame({\n",
        "    'Nombre': ['Alice', 'Bob', 'Charlie', 'David'],\n",
        "    'Edad': [24, 27, 22, 32],\n",
        "    'Profesión': ['Ingeniero', 'Doctor', 'Arquitecto', 'Abogado']\n",
        "}, index=['ID1', 'ID2', 'ID3', 'ID4'])\n",
        "df"
      ]
    },
    {
      "cell_type": "code",
      "execution_count": null,
      "metadata": {
        "colab": {
          "base_uri": "https://localhost:8080/"
        },
        "id": "MDbAy1HWcKUn",
        "outputId": "d0c25ce2-8d52-4292-f23a-786b0258aff4"
      },
      "outputs": [],
      "source": [
        "# Utilizar 'loc' para acceder a una fila por su etiqueta de índice\n",
        "print(df.loc['ID1'])\n",
        "print('*' * 80)\n",
        "# Utilizar 'loc' para acceder a una celda específica por fila y nombre de columna\n",
        "print(df.loc['ID1', 'Nombre'])"
      ]
    },
    {
      "cell_type": "code",
      "execution_count": null,
      "metadata": {
        "colab": {
          "base_uri": "https://localhost:8080/"
        },
        "id": "QbH3dalZcfwI",
        "outputId": "dbc79e72-d2d4-482c-f6e0-09155d6dbaa3"
      },
      "outputs": [],
      "source": [
        "# `iloc`: Búsqueda basada en índices enteros\n",
        "\n",
        "# acceder a la primera fila con iloc\n",
        "print(df.iloc[0])\n",
        "\n",
        "# primera celda del DataFrame\n",
        "print(df.iloc[0, 0])"
      ]
    },
    {
      "cell_type": "markdown",
      "metadata": {
        "id": "JEfdo96tb-kB"
      },
      "source": [
        "\n",
        "\n",
        "### Filtrado complejo\n",
        "\n",
        "Seleccionar personas mayores de 25 años y solo mostrar su nombre y profesión.\n"
      ]
    },
    {
      "cell_type": "code",
      "execution_count": null,
      "metadata": {
        "colab": {
          "base_uri": "https://localhost:8080/"
        },
        "id": "LO9TZDBGc186",
        "outputId": "fe357987-d8d1-4bce-d0f8-4bbefe0c5063"
      },
      "outputs": [],
      "source": [
        "# Con 'loc'\n",
        "resultado = df.loc[df['Edad'] > 25, ['Nombre', 'Profesión']]\n",
        "print(resultado)\n"
      ]
    },
    {
      "cell_type": "markdown",
      "metadata": {
        "id": "CqIZPNixd8wM"
      },
      "source": [
        "### Query\n",
        "\n",
        "El método `df.query()` en Pandas se usa para filtrar filas de un DataFrame mediante una expresión booleana. Es especialmente útil cuando tienes un DataFrame con muchas columnas y quieres aplicar una condición de filtro de una manera más legible y eficiente. Además, la expresión se escribe como un string, lo que hace que las consultas sean más fáciles de escribir y entender.\n"
      ]
    },
    {
      "cell_type": "code",
      "execution_count": null,
      "metadata": {
        "id": "-McH-cnkdBPC"
      },
      "outputs": [],
      "source": [
        "df = pd.DataFrame({\n",
        "    'Nombre': ['Alice', 'Bob', 'Charlie', 'David'],\n",
        "    'Edad': [24, 27, 22, 32],\n",
        "    'Profesión': ['Ingeniero', 'Doctor', 'Arquitecto', 'Abogado']\n",
        "})\n"
      ]
    },
    {
      "cell_type": "code",
      "execution_count": null,
      "metadata": {
        "colab": {
          "base_uri": "https://localhost:8080/"
        },
        "id": "dzDXwOGKeKen",
        "outputId": "7d6da512-4d70-447f-d793-80914b4c3d77"
      },
      "outputs": [],
      "source": [
        "# filtrar todas las filas donde la edad es mayor que 25\n",
        "\n",
        "resultado = df.query(\"Edad > 25\")\n",
        "print(resultado)\n"
      ]
    },
    {
      "cell_type": "code",
      "execution_count": null,
      "metadata": {
        "colab": {
          "base_uri": "https://localhost:8080/"
        },
        "id": "74mxuOgYeQY0",
        "outputId": "99d06b09-2aba-4f9d-a0b2-6dd57e43fa05"
      },
      "outputs": [],
      "source": [
        "# Más complejo\n",
        "df = pd.DataFrame({\n",
        "    'Nombre': ['Alice', 'Bob', 'Charlie', 'David', 'Eve'],\n",
        "    'Edad': [24, 27, 22, 32, 27],\n",
        "    'Profesión': ['Ingeniero', 'Doctor', 'Arquitecto', 'Abogado', 'Doctor'],\n",
        "    'Salario': [50000, 120000, 80000, 90000, 110000]\n",
        "})\n",
        "\n",
        "\n",
        "# Filas donde la edad es mayor que 25 y el salario es mayor que 100000,\n",
        "# o son doctores\n",
        "\n",
        "resultado = df.query(\"(Edad > 25 and Salario > 100000) or Profesión == 'Doctor'\")\n",
        "print(resultado)\n"
      ]
    },
    {
      "cell_type": "code",
      "execution_count": null,
      "metadata": {
        "colab": {
          "base_uri": "https://localhost:8080/",
          "height": 355
        },
        "id": "fupgC27GeiO_",
        "outputId": "4031bba3-0205-4566-874d-9b20473c428e"
      },
      "outputs": [],
      "source": [
        "#Puedes usar variables en tus consultas con `@`\n",
        "\n",
        "min_salario = 100000\n",
        "resultado = df.query(\"Salario == @min_salario\")\n",
        "\n",
        "# En este momento no funciona por un bug en la version https://github.com/pandas-dev/pandas/issues/54449\n",
        "\n"
      ]
    },
    {
      "cell_type": "code",
      "execution_count": null,
      "metadata": {
        "id": "-gfFuaKtf5Bx"
      },
      "outputs": [],
      "source": []
    }
  ],
  "metadata": {
    "colab": {
      "collapsed_sections": [
        "f0FhrewPW7F0"
      ],
      "provenance": [],
      "toc_visible": true
    },
    "kernelspec": {
      "display_name": "Python 3",
      "name": "python3"
    },
    "language_info": {
      "name": "python"
    }
  },
  "nbformat": 4,
  "nbformat_minor": 0
}
