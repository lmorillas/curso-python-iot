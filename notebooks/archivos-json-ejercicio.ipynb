{
 "cells": [
  {
   "cell_type": "markdown",
   "metadata": {},
   "source": [
    "# Archivos JSON y API REST de Zaragoza\n",
    "\n",
    "El Portal de Datos Abiertos del Ayuntamiento de Zaragoza ofrece una [API REST](https://www.zaragoza.es/sede/portal/datos-abiertos/api) para acceder a numerosos servicios y conjuntos de datos. En esta práctica vamos a utilizar la API para obtener información sobre los accidentes de tráfico de la ciudad en tiempo real.\n",
    "\n",
    "Aquí tienes el catálogo e información general: https://www.zaragoza.es/docs-api_sede\n",
    "\n",
    "Nosotros vamos a usar para este ejemplo el conjunto de datos de **Estaciones Bizi**: https://www.zaragoza.es/docs-api_sede/#/Equipamientos%20y%20movilidad:%20Estaciones%20Bizi\n",
    "\n"
   ]
  },
  {
   "cell_type": "code",
   "execution_count": null,
   "metadata": {},
   "outputs": [],
   "source": [
    "! pip install requests"
   ]
  },
  {
   "cell_type": "code",
   "execution_count": null,
   "metadata": {},
   "outputs": [],
   "source": [
    "import requests\n",
    "\n",
    "url = 'https://www.zaragoza.es/sede/servicio/urbanismo-infraestructuras/estacion-bicicleta?rf=html&srsname=wgs84&start=0&rows=50&distance=500'\n",
    "\n",
    "# Hay que informar a la api que podemos leer un json, si no nos devuelve un html\n",
    "headers = {'Accept': 'application/geo+json'}  \n",
    "\n",
    "doc = requests.get(url, headers=headers)"
   ]
  },
  {
   "cell_type": "code",
   "execution_count": null,
   "metadata": {},
   "outputs": [],
   "source": [
    "# Si la respuesta es correcta, el código de estado es 200\n",
    "doc.status_code"
   ]
  },
  {
   "cell_type": "code",
   "execution_count": null,
   "metadata": {},
   "outputs": [],
   "source": [
    "datos = doc.json()\n",
    "\n",
    "# El resultado es un diccionario\n",
    "datos"
   ]
  },
  {
   "cell_type": "code",
   "execution_count": null,
   "metadata": {},
   "outputs": [],
   "source": [
    "# Explóralo\n",
    "\n",
    "datos.keys()"
   ]
  },
  {
   "cell_type": "code",
   "execution_count": null,
   "metadata": {},
   "outputs": [],
   "source": [
    "# Los datos de los estacionamientos vienen en features\n",
    "len(datos['features'])"
   ]
  },
  {
   "cell_type": "code",
   "execution_count": null,
   "metadata": {},
   "outputs": [],
   "source": [
    "# Se suelen pedir de 50 en 50. Podrías traerlos todos?  Fíjate en la estructura de la url\n",
    "# guarda los datos en una lista llamada estacionamientos"
   ]
  },
  {
   "cell_type": "code",
   "execution_count": null,
   "metadata": {},
   "outputs": [],
   "source": [
    "# Intenta pintalos en un mapa. \n",
    "# Pinta los primeros 50 estacionamientos. y al hacer clic muestra las bicis y anclajes disponibles"
   ]
  }
 ],
 "metadata": {
  "kernelspec": {
   "display_name": "env",
   "language": "python",
   "name": "python3"
  },
  "language_info": {
   "codemirror_mode": {
    "name": "ipython",
    "version": 3
   },
   "file_extension": ".py",
   "mimetype": "text/x-python",
   "name": "python",
   "nbconvert_exporter": "python",
   "pygments_lexer": "ipython3",
   "version": "3.6.3"
  },
  "orig_nbformat": 4
 },
 "nbformat": 4,
 "nbformat_minor": 2
}
