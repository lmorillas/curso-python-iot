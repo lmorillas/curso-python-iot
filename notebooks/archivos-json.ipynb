{
 "cells": [
  {
   "cell_type": "markdown",
   "metadata": {},
   "source": [
    "## Ejerecicios con archivos JSON\n",
    "\n",
    "Crea un archivo `estudiantes.json` con el siguiente contenido:\n",
    "\n",
    "```json\n",
    "[\n",
    "  {\n",
    "    \"nombre\": \"Alice\",\n",
    "    \"edad\": 30,\n",
    "    \"correo\": \"alice@email.com\"\n",
    "  },\n",
    "  {\n",
    "    \"nombre\": \"Bob\",\n",
    "    \"edad\": 45,\n",
    "    \"correo\": \"bob@email.com\"\n",
    "  },\n",
    "  {\n",
    "    \"nombre\": \"Charlie\",\n",
    "    \"edad\": 25,\n",
    "    \"correo\": \"charlie@email.com\"\n",
    "  },\n",
    "  {\n",
    "    \"nombre\": \"David\",\n",
    "    \"edad\": 40,\n",
    "    \"correo\": \"david@email.com\"\n",
    "  },\n",
    "  {\n",
    "    \"nombre\": \"Eve\",\n",
    "    \"edad\": 35,\n",
    "    \"correo\": \"eve@email.com\"\n",
    "  }\n",
    "]\n",
    "```\n"
   ]
  },
  {
   "cell_type": "code",
   "execution_count": null,
   "metadata": {},
   "outputs": [],
   "source": [
    "# Leer el archivo JSON\n",
    "import json\n",
    "\n",
    "with open('estudiantes.json', 'r') as f:\n",
    "    estudiantes = json.load(f)\n",
    "    \n",
    "\n",
    "for estudiante in estudiantes:\n",
    "    print(f\"Nombre: {estudiante['nombre']}, Edad: {estudiante['edad']}, Correo: {estudiante['correo']}\")\n",
    "\n"
   ]
  },
  {
   "cell_type": "code",
   "execution_count": null,
   "metadata": {},
   "outputs": [],
   "source": [
    "# Escribir un archivo JSON\n",
    "\n",
    "nuevos_estudiantes = [\n",
    "    {\"nombre\": \"Jesús\", \"edad\": 25, \"correo\": \"jesus@email.com\"},\n",
    "    {\"nombre\": \"Ana\", \"edad\": 40, \"correo\": \"ana@email.com\"}\n",
    "]\n",
    "\n",
    "estudiantes.extend(nuevos_estudiantes)\n",
    "\n",
    "with open('estudiantes.json', 'w') as f:\n",
    "    json.dump(estudiantes, f, indent=4)\n"
   ]
  },
  {
   "cell_type": "code",
   "execution_count": null,
   "metadata": {},
   "outputs": [],
   "source": [
    "# Fechas y objetos \"no serializables\"\n",
    "\n",
    "# Si intentas guardar un objeto fecha, obtendrás un error\n",
    "import datetime as dt\n",
    "\n",
    "alicia = {\n",
    "    \"nombre\": \"Alice\",\n",
    "    \"fecha_nacimiento\": dt.date(2000, 10, 5)\n",
    "}\n",
    "\n",
    "# Intentampos volcar el diccionario a JSON y obendremos un TypeError\n",
    "json.dumps(alicia)"
   ]
  },
  {
   "cell_type": "code",
   "execution_count": null,
   "metadata": {},
   "outputs": [],
   "source": [
    "# Para solucionar esto, podemos crear una función que convierta la fecha a un formato serializable\n",
    "\n",
    "def convertir_fecha(obj):\n",
    "    if isinstance(obj, dt.date):\n",
    "        return obj.isoformat()\n",
    "    assert False, \"Tipo de objeto no serializable\"\n",
    "\n",
    "\n",
    "json.dumps(alicia, default=convertir_fecha)"
   ]
  },
  {
   "cell_type": "code",
   "execution_count": null,
   "metadata": {},
   "outputs": [],
   "source": [
    "# Ahora podemos añadir el nuevo estudiante a la lista\n",
    "\n",
    "estudiantes.append(alicia)\n",
    "\n",
    "with open('estudiantes.json', 'w') as f:\n",
    "    json.dump(estudiantes, f, indent=4, default=convertir_fecha)\n",
    "    "
   ]
  }
 ],
 "metadata": {
  "kernelspec": {
   "display_name": "env",
   "language": "python",
   "name": "python3"
  },
  "language_info": {
   "codemirror_mode": {
    "name": "ipython",
    "version": 3
   },
   "file_extension": ".py",
   "mimetype": "text/x-python",
   "name": "python",
   "nbconvert_exporter": "python",
   "pygments_lexer": "ipython3",
   "version": "3.6.3"
  },
  "orig_nbformat": 4
 },
 "nbformat": 4,
 "nbformat_minor": 2
}
