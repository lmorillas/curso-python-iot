{
  "cells": [
    {
      "cell_type": "markdown",
      "metadata": {
        "id": "Z-G6QygFNufr"
      },
      "source": [
        "# Proyecto 1: Visualización de datos de centros educativos con Python\n",
        "\n",
        "En este proyecto vamos a visualizar datos de centros educativos de la Comunidad de Aragón. Los datos se han extraido del portal https://educa.aragon.es/buscador-de-centros. Se han procesado y preparado para facilitar el trabajo.\n"
      ]
    },
    {
      "cell_type": "code",
      "execution_count": null,
      "metadata": {
        "cellView": "form",
        "id": "43Xft7SoNufu"
      },
      "outputs": [],
      "source": [
        "# @title Librerías que vamos a utilizar\n",
        "\n",
        "! pip install requests folium"
      ]
    },
    {
      "cell_type": "code",
      "execution_count": null,
      "metadata": {
        "id": "0ijlGwylNufv"
      },
      "outputs": [],
      "source": [
        "# @title Traemos los datos de los centros educativos\n",
        "\n",
        "import requests\n",
        "import json\n",
        "\n",
        "urlcentros = 'https://raw.githubusercontent.com/lmorillas/curso-python-iot/sesiones/notebooks/centros.json'\n"
      ]
    },
    {
      "cell_type": "code",
      "source": [
        "# Podemos leerlos directamente con requests\n",
        "centros = requests.get(urlcentros).json()\n",
        "len(centros)"
      ],
      "metadata": {
        "id": "s0B0tOjQjBCt"
      },
      "execution_count": null,
      "outputs": []
    },
    {
      "cell_type": "markdown",
      "metadata": {
        "id": "vjryyMtYNufv"
      },
      "source": [
        "## Exploración de los datos\n",
        "\n",
        "Explora el archivo que has descargado`lista_centros.json` es una lista con los centros educativos de Aragón. Cada elemento de la lista es un diccionario con los datos de un centro. Fíjate en los campos que tiene cada centro.\n",
        "\n"
      ]
    },
    {
      "cell_type": "code",
      "execution_count": null,
      "metadata": {
        "id": "rbmqP-dDNufw"
      },
      "outputs": [],
      "source": [
        "from pprint import pprint # muestra estructuras de datos con formato\n",
        "\n",
        "\n",
        "# cuántos centros hay?\n",
        "\n",
        "\n",
        "# muestra los datos del primer centro y del último\n",
        "pprint(centros[0])\n",
        "\n",
        "# ¿cuántos centros hay en Zaragoza?\n",
        "\n",
        "\n",
        "# ¿cuántos centros de secundaria hay en Huesca?\n",
        "\n",
        "\n",
        "# ¿cuántos centros públicos de primaria hay en Teruel?"
      ]
    },
    {
      "cell_type": "markdown",
      "metadata": {
        "id": "zQglIxjcNufw"
      },
      "source": [
        "## Visualización de los datos con folium\n",
        "\n",
        "Vamos a visualizar los centros educativos en un mapa. Para ello vamos a utilizar la librería folium. 📄 https://python-visualization.github.io/folium/\n",
        "\n",
        "En las siguientes celdas vamos a ver una introducción, luego podrás utilizar la librería para visualizar los centros educativos.\n",
        "\n",
        "\n"
      ]
    },
    {
      "cell_type": "code",
      "execution_count": null,
      "metadata": {
        "id": "wsMA7CW_Nufw"
      },
      "outputs": [],
      "source": [
        "import folium\n",
        "\n",
        "# crea un mapa centrado en Zaragoza\n",
        "# puedes probar con otros centros y otros zoom\n",
        "\n",
        "# El argumento tiles permite especificar diferentes tipos de mapa base,\n",
        "# tales como \"Stamen Terrain\", \"CartoDB Positron\", \"Stamen Toner\", etc.\n",
        "# El valor por defecto es \"OpenStreetMap\" y puedes encontrar más estilos online.\n",
        "# https://leaflet-extras.github.io/leaflet-providers/preview/\n",
        "\n",
        "centro = [41.656775,-0.8810941]  # coordenadas de El Pilar\n",
        "\n",
        "m = folium.Map(location=centro, zoom_start=12,  tiles = \"Stamen Terrain\")\n",
        "m\n"
      ]
    },
    {
      "cell_type": "code",
      "execution_count": null,
      "metadata": {
        "id": "5uzMhbRiOFdi"
      },
      "outputs": [],
      "source": [
        "# Markers con tooltip y popup\n",
        "import json\n",
        "def genera_color(naturaleza):\n",
        "    if 'privado' in naturaleza.lower():\n",
        "        return 'blue'\n",
        "    else:\n",
        "        return 'green'\n",
        "\n",
        "m = folium.Map(location=centro, tiles=\"CartoDB Positron\", zoom_start=7)\n",
        "\n",
        "# Los primeros 10 centros de la lista\n",
        "secundaria_teruel = [c for c in centros if c['desProvincia'] == 'Teruel'\n",
        "       and 'Secundaria' in c['desDenominacion']]\n",
        "\n",
        "for c in secundaria_teruel:\n",
        "  #c = centros[0]\n",
        "  tooltip = c.get('nombre').title()\n",
        "\n",
        "  folium.Marker(\n",
        "          [c.get('coordY'), c.get('coordX')],\n",
        "          popup=f\"<i>{c.get('desDenominacion')}</i>\",\n",
        "          tooltip=tooltip,\n",
        "          # color según el tipo de centro: privado/público\n",
        "          icon = folium.Icon(color=genera_color(c['desNaturaleza'])),\n",
        "\n",
        "        ).add_to(m)\n",
        "\n",
        "\n",
        "# Añadimos una capa con la silueta de Aragón\n",
        "# Estilos para la capa\n",
        "style = {'fillColor': 'lightgreen', 'color': 'red'}\n",
        "\n",
        "# el geojson de aragón está en una instancia s3\n",
        "aragon_geojson = 'https://iot-lmorillas.s3.amazonaws.com/aragon.json'\n",
        "\n",
        "# cargamos capa geojson con silueta de comunidad autónoma\n",
        "folium.GeoJson(aragon_geojson,\n",
        "               style_function=lambda x:style).add_to(m)\n",
        "\n",
        "m\n"
      ]
    },
    {
      "cell_type": "markdown",
      "metadata": {
        "id": "cSfSgSEO_10x"
      },
      "source": [
        "## Tarea\n",
        "\n",
        "Genera informes a partir de los datos:\n",
        "* Número de centros por provincia.\n",
        "> Puedes intentar relaciónalos con la superficie, con el número de municipios, población (estos datos no los tienes)\n",
        "* Muesta los centros de primaria por provincias, colorea de rojo los públicos y de azul el resto por ejemplo.\n",
        "* Intenta lo mismo con los centros de secundaria o de fp."
      ]
    },
    {
      "cell_type": "code",
      "execution_count": null,
      "metadata": {
        "id": "5FSfT-r-Aseu"
      },
      "outputs": [],
      "source": [
        "# Puedes guardar el mapa así\n",
        "m.save('mapa.html')\n",
        "\n",
        "# Mira en la sección de archivos del sidebar lateral, descárgalo y ábrelo\n",
        "# con un navegador"
      ]
    },
    {
      "cell_type": "code",
      "source": [],
      "metadata": {
        "id": "t54IGCDlc3Eu"
      },
      "execution_count": null,
      "outputs": []
    }
  ],
  "metadata": {
    "colab": {
      "provenance": []
    },
    "kernelspec": {
      "display_name": "env",
      "language": "python",
      "name": "python3"
    },
    "language_info": {
      "codemirror_mode": {
        "name": "ipython",
        "version": 3
      },
      "file_extension": ".py",
      "mimetype": "text/x-python",
      "name": "python",
      "nbconvert_exporter": "python",
      "pygments_lexer": "ipython3",
      "version": "3.6.3"
    },
    "orig_nbformat": 4
  },
  "nbformat": 4,
  "nbformat_minor": 0
}