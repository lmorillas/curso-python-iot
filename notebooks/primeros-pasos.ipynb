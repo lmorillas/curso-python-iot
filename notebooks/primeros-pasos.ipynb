{
 "cells": [
  {
   "cell_type": "markdown",
   "metadata": {},
   "source": [
    "# Primeros Pasos"
   ]
  },
  {
   "cell_type": "markdown",
   "metadata": {},
   "source": [
    "## Contenido  \n",
    "1. <a href='#section1'>Sintaxis y espacios en blanco</a>\n",
    "2. <a href='#section2'>Comentarios</a>\n",
    "3. <a href='#section3'>Números y operaciones</a>\n",
    "4. <a href='#section4'>Manipulación de cadenas</a>\n",
    "5. <a href='#section5'>Listas, tuplas y diccionarios</a>\n",
    "6. <a href='#section6'>JSON</a>\n",
    "7. <a href='#section7'>Bucles</a>\n",
    "8. <a href='#section8'>Administración de archivos</a>\n",
    "9. <a href='#section9'>Funciones</a>\n",
    "10. <a href='#section10'>Trabajo con fecha y hora</a>\n",
    "11. <a href='#section11'>NumPy</a>\n",
    "12. <a href='#section12'>Pandas</a>"
   ]
  },
  {
   "cell_type": "markdown",
   "metadata": {},
   "source": [
    "Para ejecutar una celda, presione **Mayús+Entrar** o haga clic en **Run (Ejecutar)** en la parte superior de la página."
   ]
  },
  {
   "cell_type": "markdown",
   "metadata": {},
   "source": [
    "<a id=\"section_1\"></a>\n",
    "\n",
    "## 1. Sintaxis y espacios en blanco\n",
    "Python utiliza espacio con sangría para indicar el nivel de declaración. La siguiente celda es un ejemplo donde `if` y `else` están en el mismo nivel, mientras que `print` está separado por espacio a un nivel diferente. El espaciado debe ser el mismo para los elementos que están en el mismo nivel. Se suelen usar 4 espacios por bloque."
   ]
  },
  {
   "cell_type": "code",
   "execution_count": null,
   "metadata": {},
   "outputs": [],
   "source": [
    "student_number = input(\"Enter your student number:\")\n",
    "if int(student_number) != 0:\n",
    "    print(f\"Welcome student {student_number}\")\n",
    "else:\n",
    "    print(\"Try again!\")"
   ]
  },
  {
   "cell_type": "markdown",
   "metadata": {},
   "source": [
    "<a id='section2'></a>\n",
    "\n",
    "## 2. Comentarios\n",
    "En Python, los comentarios comienzan con `#` y se extienden hasta el final de la línea. El símbolo `#` puede estar al principio de la línea o después del código. "
   ]
  },
  {
   "cell_type": "code",
   "execution_count": null,
   "metadata": {},
   "outputs": [],
   "source": [
    "# This is code to print hello world!\n",
    "\n",
    "print(\"Hello world!\") # Print statement for hello world\n",
    "print(\"# is not a comment in this case\")"
   ]
  },
  {
   "cell_type": "markdown",
   "metadata": {},
   "source": [
    "<a id='section3'></a>\n",
    "\n",
    "## 3. Números y operaciones\n",
    "\n",
    "Al igual que con otros lenguajes de programación, hay cuatro tipos de números: \n",
    "- Enteros: `1, 20, 45, 1000`\n",
    "- Números de coma flotante: `125.   20.35   1000.00`\n",
    "- Enteros largos \n",
    "- Números complejos "
   ]
  },
  {
   "cell_type": "markdown",
   "metadata": {},
   "source": [
    "Operación | Resultado\n",
    "----------------|-------------------------------------               \n",
    "x + y | Suma de x e y\t\n",
    "x - y | Diferencia de x e y\t\n",
    "x * y | Producto de x e y\t\n",
    "x / y | Cociente de x e y\n",
    "x // y | Cociente de x e y (piso)\n",
    "x % y | Resto de x / y\n",
    "abs(x) | Valor absoluto de x\t\n",
    "int(x) | x convertido a entero\n",
    "long(x) | x convertido a entero largo\n",
    "float(x) | x convertido a coma flotante\t\n",
    "pow(x, y) | x a la potencia y\t\n",
    "x ** y | x a la potencia y\t"
   ]
  },
  {
   "cell_type": "code",
   "execution_count": 12,
   "metadata": {},
   "outputs": [
    {
     "name": "stdout",
     "output_type": "stream",
     "text": [
      "Sum of int numbers: 13 and number format is <class 'int'>\n",
      "Sum of int and 7.3 and number format is <class 'float'>\n",
      "La división siempre devuelve un número real: 1.6,Cociente entero: 1\n",
      "Resto: 3\n"
     ]
    }
   ],
   "source": [
    "# Number examples\n",
    "a = 5 + 8\n",
    "print(f\"Sum of int numbers: {a} and number format is {type(a)}\")\n",
    "\n",
    "b = 5 + 2.3\n",
    "print (f\"Sum of int and {b} and number format is {type(b)}\")\n",
    "\n",
    "print('La división siempre devuelve un número real:', 8/5)\n",
    "print('Cociente entero:', 8//5)\n",
    "print('Resto:', 8%5)"
   ]
  },
  {
   "cell_type": "markdown",
   "metadata": {},
   "source": [
    "<a id='section4'></a>\n",
    "\n",
    "## 4. Manipulación de cadenas de caracteres\n",
    "\n",
    "Las cadenas de caracteres son secuencias de caracteres que se pueden manipular de diversas formas. En Python, las cadenas de caracteres se pueden definir usando comillas simples, dobles o triples.\n",
    "\n",
    "Las cadenas son inmutables."
   ]
  },
  {
   "cell_type": "code",
   "execution_count": 13,
   "metadata": {},
   "outputs": [
    {
     "name": "stdout",
     "output_type": "stream",
     "text": [
      "hello world to everyone\n",
      "h\n",
      "d\n",
      "e\n",
      "n\n",
      "23\n",
      "3\n",
      "4\n",
      "3\n",
      "HELLO WORLD TO EVERYONE\n",
      "hello world to everyone\n",
      "hello world to you\n",
      "Hello World To Everyone\n",
      "hello world to everyone!!!\n",
      "h:e:l:l:o: :w:o:r:l:d: :t:o: :e:v:e:r:y:o:n:e\n",
      "enoyreve ot dlrow olleh\n"
     ]
    }
   ],
   "source": [
    "# Store strings in a variable\n",
    "test_word = \"hello world to everyone\"\n",
    "\n",
    "# Print the test_word value\n",
    "print(test_word)\n",
    "\n",
    "# Use [] to access the character of the string. The first character is indicated by '0'.\n",
    "print(test_word[0])\n",
    "print(test_word[10])\n",
    "print(test_word[-1])  # The last character is indicated by '-1'.\n",
    "print(test_word[-2])  # Penúltimo caracter\n",
    "\n",
    "# Use the len() function to find the length of the string\n",
    "print(len(test_word))\n",
    "\n",
    "# Some examples of finding in strings\n",
    "# Los métodos se usan con la sintaxis: variable.metodo()\n",
    "print(test_word.count('l')) # Count number of times l repeats in the string\n",
    "print(test_word.find(\"o\")) # Find letter 'o' in the string. Returns the position of first match.\n",
    "print(test_word.count(' ')) # Count number of spaces in the string\n",
    "print(test_word.upper()) # Change the string to uppercase\n",
    "print(test_word.lower()) # Change the string to lowercase\n",
    "print(test_word.replace(\"everyone\",\"you\")) # Replace word \"everyone\" with \"you\"\n",
    "print(test_word.title()) # Change string to title format\n",
    "print(test_word + \"!!!\") # Concatenate strings\n",
    "print(\":\".join(test_word)) # Add \":\" between each character\n",
    "print(\"\".join(reversed(test_word))) # Reverse the string \n",
    "print(test_word)  # La cadena no se ha modificado"
   ]
  },
  {
   "cell_type": "markdown",
   "metadata": {},
   "source": [
    "<a id='section5'></a>\n",
    "\n",
    "## 5. Listas, tuplas y diccionarios\n",
    "\n",
    "Python admite listas de tipos de datos, tuplas, diccionarios y matrices."
   ]
  },
  {
   "cell_type": "markdown",
   "metadata": {},
   "source": [
    "### Listas\n",
    "\n",
    "Se crea una lista colocando todos los elementos (artículos) entre corchetes \\[ ] separados por comas. Una lista puede tener cualquier cantidad de elementos, y pueden ser de diferentes tipos (entero, flotante, cadenas, etc.)."
   ]
  },
  {
   "cell_type": "code",
   "execution_count": 15,
   "metadata": {},
   "outputs": [
    {
     "name": "stdout",
     "output_type": "stream",
     "text": [
      "[]\n",
      "[3, 5, 7, 10]\n",
      "[1, 'python', 3]\n"
     ]
    }
   ],
   "source": [
    "# A Python list is similar to an array. You can create an empty list too.\n",
    "\n",
    "my_list = []\n",
    "\n",
    "first_list = [3, 5, 7, 10]\n",
    "second_list = [1, 'python', 3]\n",
    "\n",
    "print(my_list)\n",
    "print(first_list)\n",
    "print(second_list)"
   ]
  },
  {
   "cell_type": "code",
   "execution_count": 16,
   "metadata": {},
   "outputs": [
    {
     "data": {
      "text/plain": [
       "[[3, 5, 7, 10], [1, 'python', 3]]"
      ]
     },
     "execution_count": 16,
     "metadata": {},
     "output_type": "execute_result"
    }
   ],
   "source": [
    "# Nest multiple lists\n",
    "nested_list = [first_list, second_list]\n",
    "nested_list"
   ]
  },
  {
   "cell_type": "code",
   "execution_count": 17,
   "metadata": {},
   "outputs": [
    {
     "data": {
      "text/plain": [
       "[3, 5, 7, 10, 1, 'python', 3]"
      ]
     },
     "execution_count": 17,
     "metadata": {},
     "output_type": "execute_result"
    }
   ],
   "source": [
    "# Combine multiple lists\n",
    "combined_list = first_list + second_list\n",
    "combined_list"
   ]
  },
  {
   "cell_type": "code",
   "execution_count": null,
   "metadata": {},
   "outputs": [],
   "source": [
    "# You can slice a list, just like strings\n",
    "combined_list[0:3]"
   ]
  },
  {
   "cell_type": "code",
   "execution_count": 18,
   "metadata": {},
   "outputs": [
    {
     "data": {
      "text/plain": [
       "[3, 5, 7, 10, 1, 'python', 3, 600]"
      ]
     },
     "execution_count": 18,
     "metadata": {},
     "output_type": "execute_result"
    }
   ],
   "source": [
    "# Append a new entry to the list\n",
    "combined_list.append(600)\n",
    "combined_list"
   ]
  },
  {
   "cell_type": "code",
   "execution_count": 19,
   "metadata": {},
   "outputs": [
    {
     "data": {
      "text/plain": [
       "600"
      ]
     },
     "execution_count": 19,
     "metadata": {},
     "output_type": "execute_result"
    }
   ],
   "source": [
    "# Remove the last entry from the list\n",
    "combined_list.pop()"
   ]
  },
  {
   "cell_type": "code",
   "execution_count": null,
   "metadata": {},
   "outputs": [],
   "source": [
    "# Iterate the list\n",
    "for item in combined_list:\n",
    "    print(item)    "
   ]
  },
  {
   "cell_type": "markdown",
   "metadata": {},
   "source": [
    "### Tuplas\n",
    "\n",
    "Una tupla es similar a una lista, pero las usa con paréntesis ( ) en lugar de corchetes. La principal diferencia es que una tupla es inmutable, mientras que una lista es mutable."
   ]
  },
  {
   "cell_type": "code",
   "execution_count": null,
   "metadata": {},
   "outputs": [],
   "source": [
    "my_tuple = (1, 2, 3, 4, 5)\n",
    "my_tuple[1:4]"
   ]
  }
 ],
 "metadata": {
  "kernelspec": {
   "display_name": "Python 3",
   "language": "python",
   "name": "python3"
  },
  "language_info": {
   "codemirror_mode": {
    "name": "ipython",
    "version": 3
   },
   "file_extension": ".py",
   "mimetype": "text/x-python",
   "name": "python",
   "nbconvert_exporter": "python",
   "pygments_lexer": "ipython3",
   "version": "3.6.3"
  }
 },
 "nbformat": 4,
 "nbformat_minor": 2
}
