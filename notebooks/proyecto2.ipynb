{
  "cells": [
    {
      "cell_type": "markdown",
      "metadata": {
        "id": "yu2Kz1KWsoLB"
      },
      "source": [
        "## Visualizador de canales de TDT\n",
        "\n",
        "> Código inicial para el proyecto"
      ]
    },
    {
      "cell_type": "code",
      "source": [
        "import requests\n",
        "\n",
        "url = 'https://www.tdtchannels.com/lists/tv.json'\n",
        "\n",
        "doc = requests.get(url)\n",
        "doc.status_code  # comprueba el estado de la petición"
      ],
      "metadata": {
        "id": "ZMnY4WWfspxq"
      },
      "execution_count": null,
      "outputs": []
    },
    {
      "cell_type": "code",
      "source": [
        "canales = doc.json()"
      ],
      "metadata": {
        "id": "VzpWUuWztWBF"
      },
      "execution_count": null,
      "outputs": []
    },
    {
      "cell_type": "markdown",
      "source": [
        "### Explora el contenido del json"
      ],
      "metadata": {
        "id": "ocxT7nrOjJtR"
      }
    },
    {
      "cell_type": "code",
      "source": [
        "canales.keys()"
      ],
      "metadata": {
        "id": "r0ZjVxgLtY39"
      },
      "execution_count": null,
      "outputs": []
    },
    {
      "cell_type": "code",
      "source": [
        "len(canales['countries'])\n"
      ],
      "metadata": {
        "id": "cHeRdKawtaET"
      },
      "execution_count": null,
      "outputs": []
    },
    {
      "cell_type": "code",
      "source": [
        "# Puedes guardar en local el archivo para explorarlo\n",
        "import json\n",
        "json.dump(canales, open('canales.json', 'w'))"
      ],
      "metadata": {
        "id": "Wuh67J6VttYI"
      },
      "execution_count": null,
      "outputs": []
    },
    {
      "cell_type": "code",
      "source": [
        "# Extracción de ámbitos de España\n",
        "ambitos = [a['name'] for a in canales['countries'][0]['ambits']]"
      ],
      "metadata": {
        "id": "XudVBhEMuCEf"
      },
      "execution_count": null,
      "outputs": []
    },
    {
      "cell_type": "code",
      "source": [
        "ambitos\n"
      ],
      "metadata": {
        "id": "OrsIza6fuuBw"
      },
      "execution_count": null,
      "outputs": []
    },
    {
      "cell_type": "markdown",
      "source": [
        "## Herramientas de visualización\n",
        "\n",
        "Aquí tienes unos ejemplos sencillos. Normalmente usaremos [gradio](https://www.gradio.app/) o [streamlit](https://streamlit.io/) que son más eficientes."
      ],
      "metadata": {
        "id": "wwVQ5fYKjaHu"
      }
    },
    {
      "cell_type": "markdown",
      "source": [
        "Si necesitas mostrar texto generado por la aplicación con formato, puedes usar `markdown` o `html`"
      ],
      "metadata": {
        "id": "tm9OAgQ3k1SA"
      }
    },
    {
      "cell_type": "code",
      "source": [
        "from IPython.display import Markdown as md\n",
        "from IPython.display import HTML"
      ],
      "metadata": {
        "id": "pYwy6LQvctlO"
      },
      "execution_count": null,
      "outputs": []
    },
    {
      "cell_type": "code",
      "source": [
        "listamd = '\\n* '.join(ambitos)\n",
        "listamd = '* ' + listamd\n",
        "md(listamd)"
      ],
      "metadata": {
        "id": "tEgqAExhdH9B"
      },
      "execution_count": null,
      "outputs": []
    },
    {
      "cell_type": "code",
      "source": [
        "listahtml = [f'<li>{a}</li>' for a in ambitos]\n",
        "HTML('<h2>Ámbitos</h2>' + '<ol>' + ''.join(listahtml) + '</ol>')"
      ],
      "metadata": {
        "id": "fP7lHTt3lHSI"
      },
      "execution_count": null,
      "outputs": []
    },
    {
      "cell_type": "markdown",
      "source": [
        "### Algunos widgets de input\n",
        "\n",
        "https://ipywidgets.readthedocs.io/"
      ],
      "metadata": {
        "id": "dccIUsBel8ys"
      }
    },
    {
      "cell_type": "code",
      "source": [
        "!pip install ipywidgets"
      ],
      "metadata": {
        "id": "uY_wxLqNl5aR"
      },
      "execution_count": null,
      "outputs": []
    },
    {
      "cell_type": "code",
      "source": [
        "import ipywidgets as widgets\n",
        "\n",
        "# dropdown\n",
        "ambito = widgets.Dropdown(\n",
        "    options=ambitos,\n",
        "    value=ambitos[0],\n",
        "    description='Ámbitos:',\n",
        "    disabled=False,\n",
        ")\n",
        "display(ambito)"
      ],
      "metadata": {
        "id": "ubEBxN_cdpbP"
      },
      "execution_count": null,
      "outputs": []
    },
    {
      "cell_type": "code",
      "source": [
        "ambito.value  # para capturar el valor"
      ],
      "metadata": {
        "id": "zAYsXA72ew9D"
      },
      "execution_count": null,
      "outputs": []
    },
    {
      "cell_type": "code",
      "source": [
        "# text\n",
        "buscado = widgets.Text(\n",
        "    value='',\n",
        "    placeholder='Introduce cadena a buscar',\n",
        "    description='Canal:',\n",
        "    disabled=False\n",
        ")\n",
        "display(buscado)"
      ],
      "metadata": {
        "id": "jQloCxkVfUV_"
      },
      "execution_count": null,
      "outputs": []
    },
    {
      "cell_type": "code",
      "source": [
        "buscado.value"
      ],
      "metadata": {
        "id": "o24pdUwTfwZd"
      },
      "execution_count": null,
      "outputs": []
    }
  ],
  "metadata": {
    "kernelspec": {
      "display_name": "env",
      "language": "python",
      "name": "python3"
    },
    "language_info": {
      "name": "python",
      "version": "3.6.3"
    },
    "orig_nbformat": 4,
    "colab": {
      "provenance": []
    }
  },
  "nbformat": 4,
  "nbformat_minor": 0
}