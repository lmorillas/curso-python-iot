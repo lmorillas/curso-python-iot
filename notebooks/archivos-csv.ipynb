{
 "cells": [
  {
   "cell_type": "markdown",
   "metadata": {},
   "source": [
    "# Trabajando con Archivos CSV en Python\n",
    "\n",
    "## Introducción\n",
    "\n",
    "CSV (Comma-Separated Values) es uno de los formatos de archivos más utilizados para el almacenamiento de datos tabulares, como bases de datos y hojas de cálculo. Python ofrece una librería estándar, `csv`, para facilitar la lectura y escritura de archivos CSV.\n"
   ]
  },
  {
   "cell_type": "code",
   "execution_count": null,
   "metadata": {},
   "outputs": [],
   "source": [
    "import csv \n",
    "\n",
    "# vamos a crear el archivo csv\n",
    "datos = [\n",
    "    ['Alice', '30', 'alice@email.com'],\n",
    "    ['Bob', '45', 'bob@email.com'],\n",
    "    ['Charlie', '25', 'charlie@email.com']]\n",
    "\n",
    "# Tenemos estos datos personales. Vamos a crear un archivo csv con ellos.\n",
    "# Normalmente creamos una cabecera para nuestros datos (los nombres de las columnas)\n",
    "columnas = ['nombre', 'edad', 'email']\n",
    "\n",
    "with open('empleados.csv', 'w') as archivo:\n",
    "    csv_writer = csv.writer(archivo)  # csv.writer\n",
    "    csv_writer.writerow(columnas)\n",
    "    csv_writer.writerows(datos)\n",
    "    "
   ]
  },
  {
   "cell_type": "code",
   "execution_count": null,
   "metadata": {},
   "outputs": [],
   "source": [
    "from pathlib import Path\n",
    "\n",
    "ruta = Path('empleados.csv')\n",
    "lineas = ruta.read_text().splitlines()\n",
    "\n",
    "reader = csv.reader(lineas)\n",
    "encabezado = next(reader)\n",
    "\n",
    "# Mostramos el encabezado\n",
    "for index, column_header in enumerate(encabezado):\n",
    "    print(index, column_header)\n",
    "\n",
    "empleados = [empleado for empleado in reader]\n",
    "print(empleados)"
   ]
  },
  {
   "cell_type": "code",
   "execution_count": null,
   "metadata": {},
   "outputs": [],
   "source": [
    "# Modificamos los datos y lo volvemos a guardar\n",
    "empleada = ['María', '35', 'maria@miemail.com']\n",
    "datos.append(empleada)\n",
    "\n",
    "ruta = 'empleados.csv'\n",
    "with open(ruta, 'w') as archivo:\n",
    "    csv_writer = csv.writer(archivo)\n",
    "    csv_writer.writerow(columnas)\n",
    "    csv_writer.writerows(datos)\n",
    "\n",
    "# Comprueba que el archivo se ha modificado correctamente"
   ]
  },
  {
   "cell_type": "markdown",
   "metadata": {},
   "source": [
    "\n",
    "## Usando `csv.DictReader`\n",
    "\n",
    "A veces es más cómodo usar `csv.DictReader`, que convierte cada fila del archivo CSV en un diccionario. La primera fila del archivo se utiliza como clave para los demás valores. No tenemos que recordar la posición de cada cabecera. Para escribir usamos `csv.DictWriter`.  \n"
   ]
  },
  {
   "cell_type": "code",
   "execution_count": null,
   "metadata": {},
   "outputs": [],
   "source": [
    "with open('empleados.csv', 'r') as file:\n",
    "    csv_dict_reader = csv.DictReader(file)\n",
    "    for row in csv_dict_reader:\n",
    "        print(row)  # Cada fila es un diccionario\n",
    "\n",
    "# podemos acceder a los valores de cada fila por su clave\n",
    "with open('empleados.csv', 'r') as file:\n",
    "    csv_dict_reader = csv.DictReader(file)\n",
    "    for row in csv_dict_reader:\n",
    "        print(f\"{row['nombre']} :: 📧 {row['email']}\")"
   ]
  }
 ],
 "metadata": {
  "kernelspec": {
   "display_name": "Python 3",
   "language": "python",
   "name": "python3"
  },
  "language_info": {
   "codemirror_mode": {
    "name": "ipython",
    "version": 3
   },
   "file_extension": ".py",
   "mimetype": "text/x-python",
   "name": "python",
   "nbconvert_exporter": "python",
   "pygments_lexer": "ipython3",
   "version": "3.6.3"
  },
  "orig_nbformat": 4
 },
 "nbformat": 4,
 "nbformat_minor": 2
}
