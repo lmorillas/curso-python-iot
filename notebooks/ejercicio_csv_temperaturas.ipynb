{
  "cells": [
    {
      "cell_type": "markdown",
      "metadata": {
        "id": "oQkdxJYXAgnS"
      },
      "source": [
        "# Ejercicio con datos de temperaturas\n",
        "\n",
        "* Descarga el csv de aquí: https://meteostat.net/es/station/08160?t=2023-07-01/2023-08-17 o usa esta descarga: https://github.com/lmorillas/curso-python-iot/blob/main/notebooks/zgz-air.csv\n"
      ]
    },
    {
      "cell_type": "code",
      "execution_count": null,
      "metadata": {
        "colab": {
          "base_uri": "https://localhost:8080/"
        },
        "id": "eOGbQTpWAgnY",
        "outputId": "32717872-8bda-4db0-874c-fe0e6e50a3f7"
      },
      "outputs": [],
      "source": [
        "# lectura del archivo\n",
        "\n",
        "from pathlib import Path\n",
        "import csv\n",
        "\n",
        "path = Path(\"zgz-air.csv\")  # pon la ruta correcta\n",
        "\n",
        "lines = path.read_text().splitlines()  # tambien puedes leerlo con open(path)\n",
        "\n",
        "reader = csv.reader(lines)\n",
        "header_row = next(reader)\n",
        "print(header_row)\n",
        "\n",
        "# vemos el índice de cada columna\n",
        "for index, column_header in enumerate(header_row):\n",
        "    print(index, column_header)"
      ]
    },
    {
      "cell_type": "code",
      "execution_count": null,
      "metadata": {
        "id": "u1qfGraXAgnb",
        "outputId": "541418ab-abf7-445b-8084-5fd420aab4d2"
      },
      "outputs": [],
      "source": [
        "# Extraemos las temperaturas máximas\n",
        "\n",
        "max_temps = []\n",
        "for row in reader:\n",
        "    maxima = float(row[3])\n",
        "    max_temps.append(maxima)\n",
        "\n",
        "print(max_temps)"
      ]
    },
    {
      "cell_type": "code",
      "execution_count": null,
      "metadata": {
        "colab": {
          "base_uri": "https://localhost:8080/"
        },
        "id": "aLOqJFfKAgnc",
        "outputId": "afac5e0b-6877-4391-d09f-ca56cfec3b2d"
      },
      "outputs": [],
      "source": [
        "# lo mismo pero con list comprehension\n",
        "\n",
        "max_temps = [float(row[3]) for row in reader]\n",
        "\n",
        "print(max_temps)"
      ]
    },
    {
      "cell_type": "markdown",
      "metadata": {
        "id": "RiINmNLWAgnc"
      },
      "source": [
        "# Vamos a añadir un ejercicio de visualización"
      ]
    },
    {
      "cell_type": "code",
      "execution_count": null,
      "metadata": {
        "colab": {
          "base_uri": "https://localhost:8080/"
        },
        "id": "nxYAJbpFAgnd",
        "outputId": "bda02483-cd90-44c3-d623-4bcb418d4c5e"
      },
      "outputs": [],
      "source": [
        "# por si no tenemos instalado matplotlib en el entorno virtual\n",
        "! pip install matplotlib"
      ]
    },
    {
      "cell_type": "code",
      "execution_count": null,
      "metadata": {
        "colab": {
          "base_uri": "https://localhost:8080/",
          "height": 580
        },
        "id": "uMdu_LGXAgnd",
        "outputId": "35af8023-44ca-4495-8541-ec5c1b9d747f"
      },
      "outputs": [],
      "source": [
        "import matplotlib.pyplot as plt\n",
        "\n",
        "# Plot de las máximas\n",
        "plt.style.use('seaborn')\n",
        "fig, ax = plt.subplots()\n",
        "ax.plot(max_temps, color='red')\n",
        "# Format plot.\n",
        "ax.set_title(\"Máximas Zaragoza - Julio - Agosto\", fontsize=24)\n",
        "ax.set_xlabel('', fontsize=16)\n",
        "ax.set_ylabel(\"Temperatura\", fontsize=16)\n",
        "ax.tick_params(labelsize=16)\n",
        "\n"
      ]
    },
    {
      "cell_type": "markdown",
      "metadata": {
        "id": "bGbI_rmoAgne"
      },
      "source": [
        "## Uso de datetime\n",
        "\n"
      ]
    },
    {
      "cell_type": "code",
      "execution_count": null,
      "metadata": {
        "colab": {
          "base_uri": "https://localhost:8080/"
        },
        "id": "2Hp2EQokA5iw",
        "outputId": "74af98ea-a426-423c-980b-7081d48f455b"
      },
      "outputs": [],
      "source": [
        "import datetime as dt\n",
        "\n",
        "fecha = dt.datetime.strptime('2023-07-01', '%Y-%m-%d')\n",
        "print(fecha)"
      ]
    },
    {
      "cell_type": "code",
      "execution_count": null,
      "metadata": {
        "colab": {
          "base_uri": "https://localhost:8080/",
          "height": 604
        },
        "id": "T6vH3UGNBQpz",
        "outputId": "316f01c0-e0c0-4545-f383-c18fef473c4d"
      },
      "outputs": [],
      "source": [
        "# Vamos a mostrar las fechas (hay que volver a leer el archivo)\n",
        "\n",
        "lines = path.read_text().splitlines()  # tambien puedes leerlo con open(path)\n",
        "\n",
        "reader = csv.reader(lines)\n",
        "header_row = next(reader)\n",
        "print(header_row)\n",
        "\n",
        "# Extract dates and high temperatures.\n",
        "fechas, max_temps = [], []\n",
        "for row in reader:\n",
        "  fecha = dt.datetime.strptime(row[0], '%Y-%m-%d')\n",
        "  maxima = float(row[3])\n",
        "  fechas.append(fecha)\n",
        "  max_temps.append(maxima)\n",
        "\n",
        "\n",
        "# Volvemos con el gráfico\n",
        "plt.style.use('seaborn')\n",
        "fig, ax = plt.subplots()\n",
        "ax.plot(fechas, max_temps, color='red')  # Añadimos eje x\n",
        "# Format plot.\n",
        "ax.set_title(\"Máximas Zaragoza - Julio - Agosto\", fontsize=24)\n",
        "ax.set_xlabel('Fecha', fontsize=12)\n",
        "fig.autofmt_xdate() # formato en diagonal\n",
        "ax.set_ylabel(\"Temperatura\", fontsize=16)\n",
        "ax.tick_params(labelsize=12)"
      ]
    },
    {
      "cell_type": "markdown",
      "metadata": {
        "id": "NjmtG505Dc67"
      },
      "source": [
        "## Tarea: Añadir una serie con la mínimas\n",
        "\n",
        "* Extrae las mínimas del csv `min_temps`\n",
        "* Añade una nueva serie:\n",
        "```python\n",
        "ax.plot(fechas, min_temps, color='blue')\n",
        "```\n",
        "\n"
      ]
    },
    {
      "cell_type": "code",
      "execution_count": null,
      "metadata": {
        "id": "_7QBdSM1D5t3"
      },
      "outputs": [],
      "source": []
    }
  ],
  "metadata": {
    "colab": {
      "provenance": []
    },
    "kernelspec": {
      "display_name": "env",
      "language": "python",
      "name": "python3"
    },
    "language_info": {
      "codemirror_mode": {
        "name": "ipython",
        "version": 3
      },
      "file_extension": ".py",
      "mimetype": "text/x-python",
      "name": "python",
      "nbconvert_exporter": "python",
      "pygments_lexer": "ipython3",
      "version": "3.6.3"
    },
    "orig_nbformat": 4
  },
  "nbformat": 4,
  "nbformat_minor": 0
}
